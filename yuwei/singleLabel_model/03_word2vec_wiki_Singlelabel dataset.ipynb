{
 "cells": [
  {
   "cell_type": "code",
   "execution_count": 1,
   "metadata": {},
   "outputs": [],
   "source": [
    "import re\n",
    "import pandas as pd\n",
    "import numpy as np\n",
    "import pickle\n",
    "import os\n",
    "import jieba\n",
    "import jieba.posseg as pseg"
   ]
  },
  {
   "cell_type": "code",
   "execution_count": 2,
   "metadata": {},
   "outputs": [],
   "source": [
    "#將繁體字進行切斷"
   ]
  },
  {
   "cell_type": "code",
   "execution_count": 3,
   "metadata": {},
   "outputs": [],
   "source": [
    "data_path = \"./dataset_6.csv\"\n",
    "data = pd.read_csv(data_path, engine='python')"
   ]
  },
  {
   "cell_type": "code",
   "execution_count": 4,
   "metadata": {},
   "outputs": [
    {
     "name": "stdout",
     "output_type": "stream",
     "text": [
      "<class 'pandas.core.frame.DataFrame'>\n",
      "RangeIndex: 73007 entries, 0 to 73006\n",
      "Data columns (total 5 columns):\n",
      "cbodyurl      73007 non-null object\n",
      "title         73007 non-null object\n",
      "txtcontent    71411 non-null object\n",
      "label         73007 non-null int64\n",
      "text          73007 non-null object\n",
      "dtypes: int64(1), object(4)\n",
      "memory usage: 2.8+ MB\n"
     ]
    }
   ],
   "source": [
    "data.info()"
   ]
  },
  {
   "cell_type": "code",
   "execution_count": 5,
   "metadata": {},
   "outputs": [
    {
     "data": {
      "text/html": [
       "<div>\n",
       "<style scoped>\n",
       "    .dataframe tbody tr th:only-of-type {\n",
       "        vertical-align: middle;\n",
       "    }\n",
       "\n",
       "    .dataframe tbody tr th {\n",
       "        vertical-align: top;\n",
       "    }\n",
       "\n",
       "    .dataframe thead th {\n",
       "        text-align: right;\n",
       "    }\n",
       "</style>\n",
       "<table border=\"1\" class=\"dataframe\">\n",
       "  <thead>\n",
       "    <tr style=\"text-align: right;\">\n",
       "      <th></th>\n",
       "      <th>cbodyurl</th>\n",
       "      <th>title</th>\n",
       "      <th>txtcontent</th>\n",
       "      <th>label</th>\n",
       "      <th>text</th>\n",
       "    </tr>\n",
       "  </thead>\n",
       "  <tbody>\n",
       "    <tr>\n",
       "      <th>0</th>\n",
       "      <td>https://inetrsc.cupoy.com/http176.34.63.351173...</td>\n",
       "      <td>近看膚質也好到像自備濾鏡！曾之喬偷懶急救居然只靠這一招 - FG彩妝保養 - Fashion...</td>\n",
       "      <td>(圖片來源/FB@曾之喬)在還沒看到曾之喬以前，真的無法相信有人的膚質可以好到這種程度，大笑...</td>\n",
       "      <td>3</td>\n",
       "      <td>在還沒看到曾之喬以前，真的無法相信有人的膚質可以好到這種程度，大笑起來沒有細紋，膚質平滑，白...</td>\n",
       "    </tr>\n",
       "    <tr>\n",
       "      <th>1</th>\n",
       "      <td>https://inetrsc.cupoy.com/http176.34.63.351173...</td>\n",
       "      <td>夾睫毛總是夾到眼皮？睫毛長又翹「兩段式」夾、刷法技巧大公開 - FG彩妝保養 - Fashi...</td>\n",
       "      <td>(圖片來源：Pinterest/INSTAGRAM@kerina_hsueh)每次夾睫毛總是...</td>\n",
       "      <td>3</td>\n",
       "      <td>其實夾睫毛不是一件這麼難的事，只是有些步驟常常被忽略~快跟著以下步驟，讓妳就算不用種睫毛，也...</td>\n",
       "    </tr>\n",
       "    <tr>\n",
       "      <th>2</th>\n",
       "      <td>https://inetrsc.cupoy.com/http24h.pchome.com.t...</td>\n",
       "      <td>PChome線上購物 -</td>\n",
       "      <td>NaN</td>\n",
       "      <td>11</td>\n",
       "      <td>但猶豫期並非試用期，請留意，您所退回的商品必須回復原狀（須回復至商品到貨時的原始狀態）並且保...</td>\n",
       "    </tr>\n",
       "    <tr>\n",
       "      <th>3</th>\n",
       "      <td>https://inetrsc.cupoy.com/http24h.pchome.com.t...</td>\n",
       "      <td>PChome線上購物 -</td>\n",
       "      <td>NaN</td>\n",
       "      <td>11</td>\n",
       "      <td>但猶豫期並非試用期，請留意，您所退回的商品必須回復原狀（須回復至商品到貨時的原始狀態）並且保...</td>\n",
       "    </tr>\n",
       "    <tr>\n",
       "      <th>4</th>\n",
       "      <td>https://inetrsc.cupoy.com/http30plus.30.com.tw...</td>\n",
       "      <td>在學賺錢之前，先學會如何管理錢 - 【30雜誌】30+BLOG</td>\n",
       "      <td>即使找到金飯碗，領死薪水是不會致富的！人人稱羨的科技新貴，跳脫舒適圈創業去！人人都想賺錢、人...</td>\n",
       "      <td>6</td>\n",
       "      <td>」這樣的觀念從小就被植入，當時的我一直很想賺錢，學生時代幾乎都會去打工，像是：KTV服務生、...</td>\n",
       "    </tr>\n",
       "  </tbody>\n",
       "</table>\n",
       "</div>"
      ],
      "text/plain": [
       "                                            cbodyurl  \\\n",
       "0  https://inetrsc.cupoy.com/http176.34.63.351173...   \n",
       "1  https://inetrsc.cupoy.com/http176.34.63.351173...   \n",
       "2  https://inetrsc.cupoy.com/http24h.pchome.com.t...   \n",
       "3  https://inetrsc.cupoy.com/http24h.pchome.com.t...   \n",
       "4  https://inetrsc.cupoy.com/http30plus.30.com.tw...   \n",
       "\n",
       "                                               title  \\\n",
       "0  近看膚質也好到像自備濾鏡！曾之喬偷懶急救居然只靠這一招 - FG彩妝保養 - Fashion...   \n",
       "1  夾睫毛總是夾到眼皮？睫毛長又翹「兩段式」夾、刷法技巧大公開 - FG彩妝保養 - Fashi...   \n",
       "2                                       PChome線上購物 -   \n",
       "3                                       PChome線上購物 -   \n",
       "4                    在學賺錢之前，先學會如何管理錢 - 【30雜誌】30+BLOG   \n",
       "\n",
       "                                          txtcontent  label  \\\n",
       "0  (圖片來源/FB@曾之喬)在還沒看到曾之喬以前，真的無法相信有人的膚質可以好到這種程度，大笑...      3   \n",
       "1  (圖片來源：Pinterest/INSTAGRAM@kerina_hsueh)每次夾睫毛總是...      3   \n",
       "2                                                NaN     11   \n",
       "3                                                NaN     11   \n",
       "4  即使找到金飯碗，領死薪水是不會致富的！人人稱羨的科技新貴，跳脫舒適圈創業去！人人都想賺錢、人...      6   \n",
       "\n",
       "                                                text  \n",
       "0  在還沒看到曾之喬以前，真的無法相信有人的膚質可以好到這種程度，大笑起來沒有細紋，膚質平滑，白...  \n",
       "1  其實夾睫毛不是一件這麼難的事，只是有些步驟常常被忽略~快跟著以下步驟，讓妳就算不用種睫毛，也...  \n",
       "2  但猶豫期並非試用期，請留意，您所退回的商品必須回復原狀（須回復至商品到貨時的原始狀態）並且保...  \n",
       "3  但猶豫期並非試用期，請留意，您所退回的商品必須回復原狀（須回復至商品到貨時的原始狀態）並且保...  \n",
       "4  」這樣的觀念從小就被植入，當時的我一直很想賺錢，學生時代幾乎都會去打工，像是：KTV服務生、...  "
      ]
     },
     "execution_count": 5,
     "metadata": {},
     "output_type": "execute_result"
    }
   ],
   "source": [
    "data.head()"
   ]
  },
  {
   "cell_type": "code",
   "execution_count": 8,
   "metadata": {},
   "outputs": [
    {
     "name": "stdout",
     "output_type": "stream",
     "text": [
      "Requirement already satisfied: opencc-python-reimplemented in /opt/conda/lib/python3.7/site-packages (0.1.6)\n"
     ]
    }
   ],
   "source": [
    "!pip install opencc-python-reimplemented"
   ]
  },
  {
   "cell_type": "code",
   "execution_count": 9,
   "metadata": {},
   "outputs": [],
   "source": [
    "from opencc import OpenCC\n",
    "cc = OpenCC('s2tw')\n",
    "\n",
    "data_raw = data['text'].tolist()\n",
    "new_data = []\n",
    "\n",
    "for i in data_raw:\n",
    "    i = str(i).lower()\n",
    "    new_data.append(cc.convert(i))\n",
    "#     print(new_data)\n",
    "    \n",
    "\n",
    "#data_raw['tw_text'] = cc.convert(data_raw['text'])"
   ]
  },
  {
   "cell_type": "code",
   "execution_count": 10,
   "metadata": {},
   "outputs": [
    {
     "data": {
      "text/html": [
       "<div>\n",
       "<style scoped>\n",
       "    .dataframe tbody tr th:only-of-type {\n",
       "        vertical-align: middle;\n",
       "    }\n",
       "\n",
       "    .dataframe tbody tr th {\n",
       "        vertical-align: top;\n",
       "    }\n",
       "\n",
       "    .dataframe thead th {\n",
       "        text-align: right;\n",
       "    }\n",
       "</style>\n",
       "<table border=\"1\" class=\"dataframe\">\n",
       "  <thead>\n",
       "    <tr style=\"text-align: right;\">\n",
       "      <th></th>\n",
       "      <th>label</th>\n",
       "    </tr>\n",
       "  </thead>\n",
       "  <tbody>\n",
       "    <tr>\n",
       "      <th>0</th>\n",
       "      <td>3</td>\n",
       "    </tr>\n",
       "    <tr>\n",
       "      <th>1</th>\n",
       "      <td>3</td>\n",
       "    </tr>\n",
       "    <tr>\n",
       "      <th>2</th>\n",
       "      <td>11</td>\n",
       "    </tr>\n",
       "    <tr>\n",
       "      <th>3</th>\n",
       "      <td>11</td>\n",
       "    </tr>\n",
       "    <tr>\n",
       "      <th>4</th>\n",
       "      <td>6</td>\n",
       "    </tr>\n",
       "  </tbody>\n",
       "</table>\n",
       "</div>"
      ],
      "text/plain": [
       "   label\n",
       "0      3\n",
       "1      3\n",
       "2     11\n",
       "3     11\n",
       "4      6"
      ]
     },
     "execution_count": 10,
     "metadata": {},
     "output_type": "execute_result"
    }
   ],
   "source": [
    "data_model = data.drop(['cbodyurl','title','txtcontent','text'], axis = 1)\n",
    "data_model.head()"
   ]
  },
  {
   "cell_type": "code",
   "execution_count": 11,
   "metadata": {},
   "outputs": [
    {
     "data": {
      "text/html": [
       "<div>\n",
       "<style scoped>\n",
       "    .dataframe tbody tr th:only-of-type {\n",
       "        vertical-align: middle;\n",
       "    }\n",
       "\n",
       "    .dataframe tbody tr th {\n",
       "        vertical-align: top;\n",
       "    }\n",
       "\n",
       "    .dataframe thead th {\n",
       "        text-align: right;\n",
       "    }\n",
       "</style>\n",
       "<table border=\"1\" class=\"dataframe\">\n",
       "  <thead>\n",
       "    <tr style=\"text-align: right;\">\n",
       "      <th></th>\n",
       "      <th>label</th>\n",
       "      <th>text</th>\n",
       "    </tr>\n",
       "  </thead>\n",
       "  <tbody>\n",
       "    <tr>\n",
       "      <th>0</th>\n",
       "      <td>3</td>\n",
       "      <td>在還沒看到曾之喬以前，真的無法相信有人的膚質可以好到這種程度，大笑起來沒有細紋，膚質平滑，白...</td>\n",
       "    </tr>\n",
       "    <tr>\n",
       "      <th>1</th>\n",
       "      <td>3</td>\n",
       "      <td>其實夾睫毛不是一件這麼難的事，只是有些步驟常常被忽略~快跟著以下步驟，讓妳就算不用種睫毛，也...</td>\n",
       "    </tr>\n",
       "    <tr>\n",
       "      <th>2</th>\n",
       "      <td>11</td>\n",
       "      <td>但猶豫期並非試用期，請留意，您所退回的商品必須回復原狀（須回復至商品到貨時的原始狀態）並且保...</td>\n",
       "    </tr>\n",
       "    <tr>\n",
       "      <th>3</th>\n",
       "      <td>11</td>\n",
       "      <td>但猶豫期並非試用期，請留意，您所退回的商品必須回復原狀（須回復至商品到貨時的原始狀態）並且保...</td>\n",
       "    </tr>\n",
       "    <tr>\n",
       "      <th>4</th>\n",
       "      <td>6</td>\n",
       "      <td>」這樣的觀念從小就被植入，當時的我一直很想賺錢，學生時代幾乎都會去打工，像是：ktv服務生、...</td>\n",
       "    </tr>\n",
       "  </tbody>\n",
       "</table>\n",
       "</div>"
      ],
      "text/plain": [
       "   label                                               text\n",
       "0      3  在還沒看到曾之喬以前，真的無法相信有人的膚質可以好到這種程度，大笑起來沒有細紋，膚質平滑，白...\n",
       "1      3  其實夾睫毛不是一件這麼難的事，只是有些步驟常常被忽略~快跟著以下步驟，讓妳就算不用種睫毛，也...\n",
       "2     11  但猶豫期並非試用期，請留意，您所退回的商品必須回復原狀（須回復至商品到貨時的原始狀態）並且保...\n",
       "3     11  但猶豫期並非試用期，請留意，您所退回的商品必須回復原狀（須回復至商品到貨時的原始狀態）並且保...\n",
       "4      6  」這樣的觀念從小就被植入，當時的我一直很想賺錢，學生時代幾乎都會去打工，像是：ktv服務生、..."
      ]
     },
     "execution_count": 11,
     "metadata": {},
     "output_type": "execute_result"
    }
   ],
   "source": [
    "data_model['text'] = new_data\n",
    "data_model.head()"
   ]
  },
  {
   "cell_type": "code",
   "execution_count": null,
   "metadata": {},
   "outputs": [],
   "source": [
    "data.to_csv('dataset_8_multi.csv',index=False)"
   ]
  },
  {
   "cell_type": "code",
   "execution_count": null,
   "metadata": {},
   "outputs": [],
   "source": []
  },
  {
   "cell_type": "code",
   "execution_count": null,
   "metadata": {},
   "outputs": [],
   "source": []
  },
  {
   "cell_type": "code",
   "execution_count": null,
   "metadata": {},
   "outputs": [],
   "source": []
  },
  {
   "cell_type": "code",
   "execution_count": null,
   "metadata": {},
   "outputs": [],
   "source": []
  },
  {
   "cell_type": "code",
   "execution_count": 64,
   "metadata": {},
   "outputs": [],
   "source": [
    "# data_path = \"./dataset_7.csv\"\n",
    "# data_model = pd.read_csv(data_path, engine='python')"
   ]
  },
  {
   "cell_type": "code",
   "execution_count": 77,
   "metadata": {},
   "outputs": [
    {
     "name": "stdout",
     "output_type": "stream",
     "text": [
      "<class 'pandas.core.frame.DataFrame'>\n",
      "RangeIndex: 73007 entries, 0 to 73006\n",
      "Data columns (total 2 columns):\n",
      "label    73007 non-null int64\n",
      "text     73007 non-null object\n",
      "dtypes: int64(1), object(1)\n",
      "memory usage: 1.1+ MB\n"
     ]
    }
   ],
   "source": [
    "data_model.info()"
   ]
  },
  {
   "cell_type": "code",
   "execution_count": 12,
   "metadata": {},
   "outputs": [],
   "source": [
    "#處理label\n",
    "import re\n",
    "import sys\n",
    "label_idxs = []\n",
    "label_vs = []\n",
    "for index, article in data_model.iterrows():\n",
    "    label_str = str(article['label'])\n",
    "    label_arr = re.split(r'\\t+', label_str)\n",
    "    label_arr = [int(l) for l in label_arr]\n",
    "    label_idxs.append(index)\n",
    "    \n",
    "    v = np.zeros(14).astype('int32')\n",
    "    for li in label_arr:\n",
    "        v[li] = 1\n",
    "    label_vs.append(v)"
   ]
  },
  {
   "cell_type": "code",
   "execution_count": 13,
   "metadata": {},
   "outputs": [
    {
     "data": {
      "text/html": [
       "<div>\n",
       "<style scoped>\n",
       "    .dataframe tbody tr th:only-of-type {\n",
       "        vertical-align: middle;\n",
       "    }\n",
       "\n",
       "    .dataframe tbody tr th {\n",
       "        vertical-align: top;\n",
       "    }\n",
       "\n",
       "    .dataframe thead th {\n",
       "        text-align: right;\n",
       "    }\n",
       "</style>\n",
       "<table border=\"1\" class=\"dataframe\">\n",
       "  <thead>\n",
       "    <tr style=\"text-align: right;\">\n",
       "      <th></th>\n",
       "      <th>cat_0</th>\n",
       "      <th>cat_1</th>\n",
       "      <th>cat_2</th>\n",
       "      <th>cat_3</th>\n",
       "      <th>cat_4</th>\n",
       "      <th>cat_5</th>\n",
       "      <th>cat_6</th>\n",
       "      <th>cat_7</th>\n",
       "      <th>cat_8</th>\n",
       "      <th>cat_9</th>\n",
       "      <th>cat_10</th>\n",
       "      <th>cat_11</th>\n",
       "      <th>cat_12</th>\n",
       "      <th>cat_13</th>\n",
       "    </tr>\n",
       "  </thead>\n",
       "  <tbody>\n",
       "    <tr>\n",
       "      <th>0</th>\n",
       "      <td>0</td>\n",
       "      <td>0</td>\n",
       "      <td>0</td>\n",
       "      <td>1</td>\n",
       "      <td>0</td>\n",
       "      <td>0</td>\n",
       "      <td>0</td>\n",
       "      <td>0</td>\n",
       "      <td>0</td>\n",
       "      <td>0</td>\n",
       "      <td>0</td>\n",
       "      <td>0</td>\n",
       "      <td>0</td>\n",
       "      <td>0</td>\n",
       "    </tr>\n",
       "    <tr>\n",
       "      <th>1</th>\n",
       "      <td>0</td>\n",
       "      <td>0</td>\n",
       "      <td>0</td>\n",
       "      <td>1</td>\n",
       "      <td>0</td>\n",
       "      <td>0</td>\n",
       "      <td>0</td>\n",
       "      <td>0</td>\n",
       "      <td>0</td>\n",
       "      <td>0</td>\n",
       "      <td>0</td>\n",
       "      <td>0</td>\n",
       "      <td>0</td>\n",
       "      <td>0</td>\n",
       "    </tr>\n",
       "    <tr>\n",
       "      <th>2</th>\n",
       "      <td>0</td>\n",
       "      <td>0</td>\n",
       "      <td>0</td>\n",
       "      <td>0</td>\n",
       "      <td>0</td>\n",
       "      <td>0</td>\n",
       "      <td>0</td>\n",
       "      <td>0</td>\n",
       "      <td>0</td>\n",
       "      <td>0</td>\n",
       "      <td>0</td>\n",
       "      <td>1</td>\n",
       "      <td>0</td>\n",
       "      <td>0</td>\n",
       "    </tr>\n",
       "    <tr>\n",
       "      <th>3</th>\n",
       "      <td>0</td>\n",
       "      <td>0</td>\n",
       "      <td>0</td>\n",
       "      <td>0</td>\n",
       "      <td>0</td>\n",
       "      <td>0</td>\n",
       "      <td>0</td>\n",
       "      <td>0</td>\n",
       "      <td>0</td>\n",
       "      <td>0</td>\n",
       "      <td>0</td>\n",
       "      <td>1</td>\n",
       "      <td>0</td>\n",
       "      <td>0</td>\n",
       "    </tr>\n",
       "    <tr>\n",
       "      <th>4</th>\n",
       "      <td>0</td>\n",
       "      <td>0</td>\n",
       "      <td>0</td>\n",
       "      <td>0</td>\n",
       "      <td>0</td>\n",
       "      <td>0</td>\n",
       "      <td>1</td>\n",
       "      <td>0</td>\n",
       "      <td>0</td>\n",
       "      <td>0</td>\n",
       "      <td>0</td>\n",
       "      <td>0</td>\n",
       "      <td>0</td>\n",
       "      <td>0</td>\n",
       "    </tr>\n",
       "    <tr>\n",
       "      <th>...</th>\n",
       "      <td>...</td>\n",
       "      <td>...</td>\n",
       "      <td>...</td>\n",
       "      <td>...</td>\n",
       "      <td>...</td>\n",
       "      <td>...</td>\n",
       "      <td>...</td>\n",
       "      <td>...</td>\n",
       "      <td>...</td>\n",
       "      <td>...</td>\n",
       "      <td>...</td>\n",
       "      <td>...</td>\n",
       "      <td>...</td>\n",
       "      <td>...</td>\n",
       "    </tr>\n",
       "    <tr>\n",
       "      <th>73002</th>\n",
       "      <td>0</td>\n",
       "      <td>0</td>\n",
       "      <td>0</td>\n",
       "      <td>0</td>\n",
       "      <td>0</td>\n",
       "      <td>0</td>\n",
       "      <td>0</td>\n",
       "      <td>0</td>\n",
       "      <td>0</td>\n",
       "      <td>1</td>\n",
       "      <td>0</td>\n",
       "      <td>0</td>\n",
       "      <td>0</td>\n",
       "      <td>0</td>\n",
       "    </tr>\n",
       "    <tr>\n",
       "      <th>73003</th>\n",
       "      <td>0</td>\n",
       "      <td>0</td>\n",
       "      <td>0</td>\n",
       "      <td>0</td>\n",
       "      <td>0</td>\n",
       "      <td>0</td>\n",
       "      <td>0</td>\n",
       "      <td>0</td>\n",
       "      <td>0</td>\n",
       "      <td>1</td>\n",
       "      <td>0</td>\n",
       "      <td>0</td>\n",
       "      <td>0</td>\n",
       "      <td>0</td>\n",
       "    </tr>\n",
       "    <tr>\n",
       "      <th>73004</th>\n",
       "      <td>0</td>\n",
       "      <td>0</td>\n",
       "      <td>0</td>\n",
       "      <td>0</td>\n",
       "      <td>0</td>\n",
       "      <td>0</td>\n",
       "      <td>0</td>\n",
       "      <td>0</td>\n",
       "      <td>0</td>\n",
       "      <td>1</td>\n",
       "      <td>0</td>\n",
       "      <td>0</td>\n",
       "      <td>0</td>\n",
       "      <td>0</td>\n",
       "    </tr>\n",
       "    <tr>\n",
       "      <th>73005</th>\n",
       "      <td>0</td>\n",
       "      <td>0</td>\n",
       "      <td>0</td>\n",
       "      <td>0</td>\n",
       "      <td>0</td>\n",
       "      <td>0</td>\n",
       "      <td>0</td>\n",
       "      <td>0</td>\n",
       "      <td>0</td>\n",
       "      <td>1</td>\n",
       "      <td>0</td>\n",
       "      <td>0</td>\n",
       "      <td>0</td>\n",
       "      <td>0</td>\n",
       "    </tr>\n",
       "    <tr>\n",
       "      <th>73006</th>\n",
       "      <td>0</td>\n",
       "      <td>0</td>\n",
       "      <td>0</td>\n",
       "      <td>0</td>\n",
       "      <td>0</td>\n",
       "      <td>0</td>\n",
       "      <td>0</td>\n",
       "      <td>0</td>\n",
       "      <td>0</td>\n",
       "      <td>1</td>\n",
       "      <td>0</td>\n",
       "      <td>0</td>\n",
       "      <td>0</td>\n",
       "      <td>0</td>\n",
       "    </tr>\n",
       "  </tbody>\n",
       "</table>\n",
       "<p>73007 rows × 14 columns</p>\n",
       "</div>"
      ],
      "text/plain": [
       "       cat_0  cat_1  cat_2  cat_3  cat_4  cat_5  cat_6  cat_7  cat_8  cat_9  \\\n",
       "0          0      0      0      1      0      0      0      0      0      0   \n",
       "1          0      0      0      1      0      0      0      0      0      0   \n",
       "2          0      0      0      0      0      0      0      0      0      0   \n",
       "3          0      0      0      0      0      0      0      0      0      0   \n",
       "4          0      0      0      0      0      0      1      0      0      0   \n",
       "...      ...    ...    ...    ...    ...    ...    ...    ...    ...    ...   \n",
       "73002      0      0      0      0      0      0      0      0      0      1   \n",
       "73003      0      0      0      0      0      0      0      0      0      1   \n",
       "73004      0      0      0      0      0      0      0      0      0      1   \n",
       "73005      0      0      0      0      0      0      0      0      0      1   \n",
       "73006      0      0      0      0      0      0      0      0      0      1   \n",
       "\n",
       "       cat_10  cat_11  cat_12  cat_13  \n",
       "0           0       0       0       0  \n",
       "1           0       0       0       0  \n",
       "2           0       1       0       0  \n",
       "3           0       1       0       0  \n",
       "4           0       0       0       0  \n",
       "...       ...     ...     ...     ...  \n",
       "73002       0       0       0       0  \n",
       "73003       0       0       0       0  \n",
       "73004       0       0       0       0  \n",
       "73005       0       0       0       0  \n",
       "73006       0       0       0       0  \n",
       "\n",
       "[73007 rows x 14 columns]"
      ]
     },
     "execution_count": 13,
     "metadata": {},
     "output_type": "execute_result"
    }
   ],
   "source": [
    "column_list = range(14)\n",
    "\n",
    "pre_res = [\"cat_\" + str(sub) for sub in column_list]\n",
    "\n",
    "\n",
    "res = pd.DataFrame (label_vs,columns=pre_res)\n",
    "res"
   ]
  },
  {
   "cell_type": "code",
   "execution_count": 14,
   "metadata": {},
   "outputs": [],
   "source": [
    "from sklearn.model_selection import train_test_split\n",
    "# train, test = train_test_split(data_model, test_size=0.3, random_state=86)"
   ]
  },
  {
   "cell_type": "code",
   "execution_count": 15,
   "metadata": {},
   "outputs": [],
   "source": [
    "train_label = res"
   ]
  },
  {
   "cell_type": "code",
   "execution_count": 16,
   "metadata": {},
   "outputs": [],
   "source": [
    "X_train,X_test,Y_train,Y_test = train_test_split(data_model,train_label, test_size=0.2, random_state=86, shuffle=True)"
   ]
  },
  {
   "cell_type": "code",
   "execution_count": 17,
   "metadata": {},
   "outputs": [
    {
     "data": {
      "text/plain": [
       "(58405, 2)"
      ]
     },
     "execution_count": 17,
     "metadata": {},
     "output_type": "execute_result"
    }
   ],
   "source": [
    "X_train.shape"
   ]
  },
  {
   "cell_type": "code",
   "execution_count": 18,
   "metadata": {},
   "outputs": [
    {
     "data": {
      "text/plain": [
       "(14602, 2)"
      ]
     },
     "execution_count": 18,
     "metadata": {},
     "output_type": "execute_result"
    }
   ],
   "source": [
    "X_test.shape"
   ]
  },
  {
   "cell_type": "code",
   "execution_count": 80,
   "metadata": {},
   "outputs": [
    {
     "data": {
      "text/plain": [
       "(58405, 14)"
      ]
     },
     "execution_count": 80,
     "metadata": {},
     "output_type": "execute_result"
    }
   ],
   "source": [
    "Y_train.shape"
   ]
  },
  {
   "cell_type": "code",
   "execution_count": null,
   "metadata": {},
   "outputs": [],
   "source": []
  },
  {
   "cell_type": "code",
   "execution_count": 19,
   "metadata": {},
   "outputs": [],
   "source": [
    "stop_path = './jieba/stop_words2.txt'"
   ]
  },
  {
   "cell_type": "code",
   "execution_count": 20,
   "metadata": {},
   "outputs": [],
   "source": [
    "def preprocess_sentences(data, colname):\n",
    "    sentences = []\n",
    "    data0 = data[colname].tolist()\n",
    "    stop_words = open(stop_path).read().splitlines()\n",
    "    for i, text in enumerate(data0):\n",
    "        line = []\n",
    "        text = str(text)\n",
    "        for w in jieba.cut(text, cut_all=False):\n",
    "\n",
    "            # remove stopwords and digits\n",
    "            # can define your own rules\n",
    "            if w not in stop_words and not bool(re.match('[0-9\\n●「」\\r\\n -/`【】]+', w)):\n",
    "                line.append(w)\n",
    "\n",
    "        sentences.append(line)\n",
    "\n",
    "        if i%10000==0:\n",
    "            print(i, '/', len(data))\n",
    "    return sentences"
   ]
  },
  {
   "cell_type": "code",
   "execution_count": 21,
   "metadata": {},
   "outputs": [
    {
     "name": "stderr",
     "output_type": "stream",
     "text": [
      "Building prefix dict from the default dictionary ...\n",
      "Dumping model to file cache /tmp/jieba.cache\n",
      "Loading model cost 1.380 seconds.\n",
      "Prefix dict has been built succesfully.\n"
     ]
    },
    {
     "name": "stdout",
     "output_type": "stream",
     "text": [
      "0 / 58405\n",
      "10000 / 58405\n",
      "20000 / 58405\n",
      "30000 / 58405\n",
      "40000 / 58405\n",
      "50000 / 58405\n"
     ]
    }
   ],
   "source": [
    "X_train_sen = preprocess_sentences(X_train, 'text')"
   ]
  },
  {
   "cell_type": "code",
   "execution_count": 22,
   "metadata": {},
   "outputs": [
    {
     "name": "stdout",
     "output_type": "stream",
     "text": [
      "0 / 14602\n",
      "10000 / 14602\n"
     ]
    }
   ],
   "source": [
    "X_test_sen = preprocess_sentences(X_test, 'text')"
   ]
  },
  {
   "cell_type": "code",
   "execution_count": null,
   "metadata": {},
   "outputs": [],
   "source": [
    "    "
   ]
  },
  {
   "cell_type": "code",
   "execution_count": 23,
   "metadata": {},
   "outputs": [],
   "source": [
    "# save data as pickle format\n",
    "with open(\"storeSpace/cupoy_cutted_X_train_single\", \"wb\") as file:\n",
    "    pickle.dump(X_train_sen, file)"
   ]
  },
  {
   "cell_type": "code",
   "execution_count": 24,
   "metadata": {},
   "outputs": [],
   "source": [
    "# save data as pickle format\n",
    "with open(\"storeSpace/cupoy_cutted_X_test_single\", \"wb\") as file:\n",
    "    pickle.dump(X_test_sen, file)"
   ]
  },
  {
   "cell_type": "code",
   "execution_count": null,
   "metadata": {},
   "outputs": [],
   "source": []
  },
  {
   "cell_type": "code",
   "execution_count": null,
   "metadata": {},
   "outputs": [],
   "source": [
    "#Word2Vec"
   ]
  },
  {
   "cell_type": "code",
   "execution_count": 25,
   "metadata": {},
   "outputs": [],
   "source": [
    "import pickle\n",
    "from gensim.models import word2vec\n",
    "import random\n",
    "import logging\n",
    "import os\n"
   ]
  },
  {
   "cell_type": "code",
   "execution_count": 26,
   "metadata": {},
   "outputs": [],
   "source": [
    "logging.basicConfig(format='%(asctime)s: %(levelname)s: %(message)s')\n",
    "logging.root.setLevel(level=logging.INFO)"
   ]
  },
  {
   "cell_type": "code",
   "execution_count": 27,
   "metadata": {},
   "outputs": [],
   "source": [
    "## load 'article_cutted'\n",
    "with open('storeSpace/cupoy_cutted_X_train_single', 'rb') as file:\n",
    "    cupoy_cutted_X_train = pickle.load(file)"
   ]
  },
  {
   "cell_type": "code",
   "execution_count": 28,
   "metadata": {},
   "outputs": [],
   "source": [
    "## load 'article_cutted'\n",
    "with open('storeSpace/cupoy_cutted_X_test_single', 'rb') as file:\n",
    "    cupoy_cutted_X_test = pickle.load(file)"
   ]
  },
  {
   "cell_type": "code",
   "execution_count": null,
   "metadata": {},
   "outputs": [],
   "source": []
  },
  {
   "cell_type": "code",
   "execution_count": null,
   "metadata": {},
   "outputs": [],
   "source": [
    "#Averaging Word Embedding for Each Doc"
   ]
  },
  {
   "cell_type": "code",
   "execution_count": 29,
   "metadata": {},
   "outputs": [],
   "source": [
    "import pickle\n",
    "from gensim.models import Doc2Vec, doc2vec\n",
    "from gensim.models import word2vec\n",
    "from gensim.models import KeyedVectors\n",
    "import gensim\n",
    "import random\n",
    "import numpy as np\n",
    "import logging\n",
    "import os"
   ]
  },
  {
   "cell_type": "code",
   "execution_count": 30,
   "metadata": {},
   "outputs": [],
   "source": [
    "logging.basicConfig(format='%(asctime)s: %(levelname)s: %(message)s')\n",
    "logging.root.setLevel(level=logging.INFO)"
   ]
  },
  {
   "cell_type": "code",
   "execution_count": 31,
   "metadata": {},
   "outputs": [],
   "source": [
    "# load 'article_cutted'\n",
    "with open('storeSpace/cupoy_cutted_X_train_single', 'rb') as file:\n",
    "    cupoy_cutted_X_train = pickle.load(file)"
   ]
  },
  {
   "cell_type": "code",
   "execution_count": 32,
   "metadata": {},
   "outputs": [],
   "source": [
    "with open('storeSpace/cupoy_cutted_X_test_single', 'rb') as file:\n",
    "    cupoy_cutted_X_test = pickle.load(file)"
   ]
  },
  {
   "cell_type": "code",
   "execution_count": 33,
   "metadata": {},
   "outputs": [
    {
     "name": "stderr",
     "output_type": "stream",
     "text": [
      "2020-08-29 11:39:26,935: INFO: loading projection weights from word2vec_model/zh_wiki_word2vec_300.txt\n",
      "/opt/conda/lib/python3.7/site-packages/smart_open/smart_open_lib.py:402: UserWarning: This function is deprecated, use smart_open.open instead. See the migration notes for details: https://github.com/RaRe-Technologies/smart_open/blob/master/README.rst#migrating-to-the-new-open-function\n",
      "  'See the migration notes for details: %s' % _MIGRATION_NOTES_URL\n",
      "2020-08-29 11:44:09,127: INFO: loaded (614083, 300) matrix from word2vec_model/zh_wiki_word2vec_300.txt\n"
     ]
    }
   ],
   "source": [
    "load_wiki = KeyedVectors.load_word2vec_format('word2vec_model/zh_wiki_word2vec_300.txt')"
   ]
  },
  {
   "cell_type": "code",
   "execution_count": 34,
   "metadata": {},
   "outputs": [
    {
     "name": "stderr",
     "output_type": "stream",
     "text": [
      "2020-08-29 11:44:09,135: INFO: precomputing L2-norms of word weight vectors\n"
     ]
    },
    {
     "data": {
      "text/plain": [
       "[('中文', 0.7536253929138184),\n",
       " ('法文', 0.6874601244926453),\n",
       " ('日文', 0.6220279932022095),\n",
       " ('西班牙文', 0.6084370613098145),\n",
       " ('韓文', 0.5994431972503662),\n",
       " ('德文', 0.5884890556335449),\n",
       " ('俄文', 0.5821559429168701),\n",
       " ('譯名', 0.5794787406921387),\n",
       " ('芬蘭文', 0.5641646981239319),\n",
       " ('英文名', 0.5599370002746582)]"
      ]
     },
     "execution_count": 34,
     "metadata": {},
     "output_type": "execute_result"
    }
   ],
   "source": [
    "load_wiki.most_similar(positive=['英文'])"
   ]
  },
  {
   "cell_type": "code",
   "execution_count": null,
   "metadata": {},
   "outputs": [],
   "source": [
    "# from wikipedia2vec import Wikipedia2Vec\n",
    "# wiki2vec = Wikipedia2Vec.load(MODEL_FILE)"
   ]
  },
  {
   "cell_type": "markdown",
   "metadata": {},
   "source": [
    "參考文獻：\n",
    "用維基語料訓練 Word2vec 和 FastText embedding\n",
    "https://medium.com/@black_swan/%E7%94%A8%E7%B6%AD%E5%9F%BA%E8%AA%9E%E6%96%99%E8%A8%93%E7%B7%B4-word2vec-%E5%92%8C-fasttext-embedding-25ede5b15994\n",
    "Gensim:\n",
    "https://radimrehurek.com/gensim/models/word2vec.html#gensim.models.word2vec.Word2Vec.load\n",
    "Pretrained Embeddings\n",
    "https://wikipedia2vec.github.io/wikipedia2vec/pretrained/\n",
    "\n"
   ]
  },
  {
   "cell_type": "code",
   "execution_count": null,
   "metadata": {},
   "outputs": [],
   "source": []
  },
  {
   "cell_type": "code",
   "execution_count": null,
   "metadata": {},
   "outputs": [],
   "source": []
  },
  {
   "cell_type": "code",
   "execution_count": null,
   "metadata": {},
   "outputs": [],
   "source": []
  },
  {
   "cell_type": "code",
   "execution_count": null,
   "metadata": {},
   "outputs": [],
   "source": []
  },
  {
   "cell_type": "code",
   "execution_count": null,
   "metadata": {},
   "outputs": [],
   "source": []
  },
  {
   "cell_type": "code",
   "execution_count": null,
   "metadata": {},
   "outputs": [],
   "source": []
  },
  {
   "cell_type": "code",
   "execution_count": null,
   "metadata": {},
   "outputs": [],
   "source": []
  },
  {
   "cell_type": "code",
   "execution_count": null,
   "metadata": {},
   "outputs": [],
   "source": []
  },
  {
   "cell_type": "code",
   "execution_count": null,
   "metadata": {},
   "outputs": [],
   "source": []
  },
  {
   "cell_type": "code",
   "execution_count": 35,
   "metadata": {},
   "outputs": [
    {
     "name": "stderr",
     "output_type": "stream",
     "text": [
      "/opt/conda/lib/python3.7/site-packages/ipykernel_launcher.py:2: DeprecationWarning: Call to deprecated `wv` (Attribute will be removed in 4.0.0, use self instead).\n",
      "  \n",
      "/opt/conda/lib/python3.7/site-packages/ipykernel_launcher.py:3: DeprecationWarning: Call to deprecated `wv` (Attribute will be removed in 4.0.0, use self instead).\n",
      "  This is separate from the ipykernel package so we can avoid doing imports until\n"
     ]
    }
   ],
   "source": [
    "# filter words that not in word2vec's vocab\n",
    "train_data_filtered = [[w for w in l if w in load_wiki.wv] for l in cupoy_cutted_X_train]\n",
    "test_data_filtered = [[w for w in l if w in load_wiki.wv] for l in cupoy_cutted_X_test]"
   ]
  },
  {
   "cell_type": "code",
   "execution_count": 36,
   "metadata": {},
   "outputs": [],
   "source": [
    "# compute average word vector\n",
    "def avg_vec(data_filtered,model):\n",
    "    avg_vector = []\n",
    "\n",
    "    for l in data_filtered:\n",
    "        if len(l)==0:\n",
    "            avg_vector.append(np.array([0]*300))\n",
    "        else:\n",
    "            avg_vector.append(np.mean([model.wv[w] for w in l], axis=0))\n",
    "    return avg_vector"
   ]
  },
  {
   "cell_type": "code",
   "execution_count": 37,
   "metadata": {},
   "outputs": [
    {
     "name": "stderr",
     "output_type": "stream",
     "text": [
      "/opt/conda/lib/python3.7/site-packages/ipykernel_launcher.py:9: DeprecationWarning: Call to deprecated `wv` (Attribute will be removed in 4.0.0, use self instead).\n",
      "  if __name__ == '__main__':\n"
     ]
    }
   ],
   "source": [
    "train_avg_vec = avg_vec(train_data_filtered, load_wiki)"
   ]
  },
  {
   "cell_type": "code",
   "execution_count": 38,
   "metadata": {},
   "outputs": [
    {
     "name": "stderr",
     "output_type": "stream",
     "text": [
      "/opt/conda/lib/python3.7/site-packages/ipykernel_launcher.py:9: DeprecationWarning: Call to deprecated `wv` (Attribute will be removed in 4.0.0, use self instead).\n",
      "  if __name__ == '__main__':\n"
     ]
    }
   ],
   "source": [
    "test_avg_vec = avg_vec(test_data_filtered, load_wiki)"
   ]
  },
  {
   "cell_type": "code",
   "execution_count": 39,
   "metadata": {},
   "outputs": [],
   "source": [
    "# save result\n",
    "with open('storeSpace/train_avg_vec_byWiki_single', 'wb') as file:\n",
    "    pickle.dump(train_avg_vec, file)"
   ]
  },
  {
   "cell_type": "code",
   "execution_count": 40,
   "metadata": {},
   "outputs": [],
   "source": [
    "# save result\n",
    "with open('storeSpace/test_avg_vec_byWiki_single', 'wb') as file:\n",
    "    pickle.dump(test_avg_vec, file)"
   ]
  },
  {
   "cell_type": "code",
   "execution_count": null,
   "metadata": {},
   "outputs": [],
   "source": []
  },
  {
   "cell_type": "code",
   "execution_count": 41,
   "metadata": {},
   "outputs": [],
   "source": [
    "train_avg_df = pd.DataFrame(train_avg_vec)"
   ]
  },
  {
   "cell_type": "code",
   "execution_count": 42,
   "metadata": {},
   "outputs": [],
   "source": [
    "test_avg_df = pd.DataFrame(test_avg_vec)"
   ]
  },
  {
   "cell_type": "code",
   "execution_count": 43,
   "metadata": {},
   "outputs": [],
   "source": [
    "column_list = range(300)\n",
    "col_name = [\"char_\" + str(sub) for sub in column_list]"
   ]
  },
  {
   "cell_type": "code",
   "execution_count": 44,
   "metadata": {},
   "outputs": [],
   "source": [
    "train_avg_df.columns = col_name\n",
    "test_avg_df.columns = col_name"
   ]
  },
  {
   "cell_type": "code",
   "execution_count": 45,
   "metadata": {},
   "outputs": [
    {
     "data": {
      "text/html": [
       "<div>\n",
       "<style scoped>\n",
       "    .dataframe tbody tr th:only-of-type {\n",
       "        vertical-align: middle;\n",
       "    }\n",
       "\n",
       "    .dataframe tbody tr th {\n",
       "        vertical-align: top;\n",
       "    }\n",
       "\n",
       "    .dataframe thead th {\n",
       "        text-align: right;\n",
       "    }\n",
       "</style>\n",
       "<table border=\"1\" class=\"dataframe\">\n",
       "  <thead>\n",
       "    <tr style=\"text-align: right;\">\n",
       "      <th></th>\n",
       "      <th>char_0</th>\n",
       "      <th>char_1</th>\n",
       "      <th>char_2</th>\n",
       "      <th>char_3</th>\n",
       "      <th>char_4</th>\n",
       "      <th>char_5</th>\n",
       "      <th>char_6</th>\n",
       "      <th>char_7</th>\n",
       "      <th>char_8</th>\n",
       "      <th>char_9</th>\n",
       "      <th>...</th>\n",
       "      <th>char_290</th>\n",
       "      <th>char_291</th>\n",
       "      <th>char_292</th>\n",
       "      <th>char_293</th>\n",
       "      <th>char_294</th>\n",
       "      <th>char_295</th>\n",
       "      <th>char_296</th>\n",
       "      <th>char_297</th>\n",
       "      <th>char_298</th>\n",
       "      <th>char_299</th>\n",
       "    </tr>\n",
       "  </thead>\n",
       "  <tbody>\n",
       "    <tr>\n",
       "      <th>0</th>\n",
       "      <td>-0.033709</td>\n",
       "      <td>0.242503</td>\n",
       "      <td>-0.171803</td>\n",
       "      <td>-0.023677</td>\n",
       "      <td>0.076615</td>\n",
       "      <td>0.014258</td>\n",
       "      <td>-0.055446</td>\n",
       "      <td>0.003849</td>\n",
       "      <td>-0.030292</td>\n",
       "      <td>0.053203</td>\n",
       "      <td>...</td>\n",
       "      <td>-0.003379</td>\n",
       "      <td>0.020401</td>\n",
       "      <td>0.076694</td>\n",
       "      <td>0.018111</td>\n",
       "      <td>0.000624</td>\n",
       "      <td>0.009766</td>\n",
       "      <td>0.054347</td>\n",
       "      <td>-0.064101</td>\n",
       "      <td>0.056249</td>\n",
       "      <td>0.068927</td>\n",
       "    </tr>\n",
       "    <tr>\n",
       "      <th>1</th>\n",
       "      <td>-0.007201</td>\n",
       "      <td>0.256056</td>\n",
       "      <td>-0.150317</td>\n",
       "      <td>-0.036970</td>\n",
       "      <td>0.069526</td>\n",
       "      <td>0.029032</td>\n",
       "      <td>-0.075840</td>\n",
       "      <td>0.127239</td>\n",
       "      <td>0.043852</td>\n",
       "      <td>0.154765</td>\n",
       "      <td>...</td>\n",
       "      <td>-0.021832</td>\n",
       "      <td>0.027505</td>\n",
       "      <td>0.080909</td>\n",
       "      <td>0.054135</td>\n",
       "      <td>-0.003762</td>\n",
       "      <td>0.075207</td>\n",
       "      <td>0.070294</td>\n",
       "      <td>-0.077187</td>\n",
       "      <td>0.054489</td>\n",
       "      <td>0.069343</td>\n",
       "    </tr>\n",
       "    <tr>\n",
       "      <th>2</th>\n",
       "      <td>-0.046384</td>\n",
       "      <td>0.232557</td>\n",
       "      <td>-0.062982</td>\n",
       "      <td>0.003217</td>\n",
       "      <td>0.016654</td>\n",
       "      <td>-0.056337</td>\n",
       "      <td>-0.006642</td>\n",
       "      <td>0.061128</td>\n",
       "      <td>-0.025081</td>\n",
       "      <td>0.083010</td>\n",
       "      <td>...</td>\n",
       "      <td>-0.040497</td>\n",
       "      <td>-0.073900</td>\n",
       "      <td>0.009410</td>\n",
       "      <td>0.076790</td>\n",
       "      <td>-0.021548</td>\n",
       "      <td>0.063108</td>\n",
       "      <td>0.028991</td>\n",
       "      <td>-0.055256</td>\n",
       "      <td>0.066123</td>\n",
       "      <td>0.110284</td>\n",
       "    </tr>\n",
       "    <tr>\n",
       "      <th>3</th>\n",
       "      <td>-0.003068</td>\n",
       "      <td>0.253867</td>\n",
       "      <td>-0.021721</td>\n",
       "      <td>0.036688</td>\n",
       "      <td>0.077250</td>\n",
       "      <td>-0.033863</td>\n",
       "      <td>0.054679</td>\n",
       "      <td>-0.056870</td>\n",
       "      <td>-0.045017</td>\n",
       "      <td>0.174222</td>\n",
       "      <td>...</td>\n",
       "      <td>-0.082848</td>\n",
       "      <td>0.056733</td>\n",
       "      <td>0.028177</td>\n",
       "      <td>0.105787</td>\n",
       "      <td>0.032486</td>\n",
       "      <td>0.070363</td>\n",
       "      <td>0.071506</td>\n",
       "      <td>-0.149105</td>\n",
       "      <td>0.081617</td>\n",
       "      <td>0.042613</td>\n",
       "    </tr>\n",
       "    <tr>\n",
       "      <th>4</th>\n",
       "      <td>0.028769</td>\n",
       "      <td>0.156787</td>\n",
       "      <td>-0.060777</td>\n",
       "      <td>0.020189</td>\n",
       "      <td>0.032972</td>\n",
       "      <td>0.005192</td>\n",
       "      <td>0.009878</td>\n",
       "      <td>0.013911</td>\n",
       "      <td>0.103503</td>\n",
       "      <td>0.062920</td>\n",
       "      <td>...</td>\n",
       "      <td>-0.088808</td>\n",
       "      <td>0.026080</td>\n",
       "      <td>0.103571</td>\n",
       "      <td>0.029077</td>\n",
       "      <td>-0.002270</td>\n",
       "      <td>-0.017608</td>\n",
       "      <td>0.042008</td>\n",
       "      <td>-0.041048</td>\n",
       "      <td>0.127885</td>\n",
       "      <td>0.060874</td>\n",
       "    </tr>\n",
       "    <tr>\n",
       "      <th>...</th>\n",
       "      <td>...</td>\n",
       "      <td>...</td>\n",
       "      <td>...</td>\n",
       "      <td>...</td>\n",
       "      <td>...</td>\n",
       "      <td>...</td>\n",
       "      <td>...</td>\n",
       "      <td>...</td>\n",
       "      <td>...</td>\n",
       "      <td>...</td>\n",
       "      <td>...</td>\n",
       "      <td>...</td>\n",
       "      <td>...</td>\n",
       "      <td>...</td>\n",
       "      <td>...</td>\n",
       "      <td>...</td>\n",
       "      <td>...</td>\n",
       "      <td>...</td>\n",
       "      <td>...</td>\n",
       "      <td>...</td>\n",
       "      <td>...</td>\n",
       "    </tr>\n",
       "    <tr>\n",
       "      <th>58400</th>\n",
       "      <td>0.003164</td>\n",
       "      <td>0.223701</td>\n",
       "      <td>-0.069305</td>\n",
       "      <td>-0.040563</td>\n",
       "      <td>0.024109</td>\n",
       "      <td>-0.019927</td>\n",
       "      <td>0.000992</td>\n",
       "      <td>0.112055</td>\n",
       "      <td>0.044526</td>\n",
       "      <td>0.013215</td>\n",
       "      <td>...</td>\n",
       "      <td>-0.014902</td>\n",
       "      <td>-0.012244</td>\n",
       "      <td>0.045194</td>\n",
       "      <td>0.013524</td>\n",
       "      <td>-0.000574</td>\n",
       "      <td>-0.045446</td>\n",
       "      <td>0.053148</td>\n",
       "      <td>-0.040465</td>\n",
       "      <td>0.079521</td>\n",
       "      <td>0.049010</td>\n",
       "    </tr>\n",
       "    <tr>\n",
       "      <th>58401</th>\n",
       "      <td>-0.010187</td>\n",
       "      <td>0.236410</td>\n",
       "      <td>-0.079693</td>\n",
       "      <td>-0.084997</td>\n",
       "      <td>0.023736</td>\n",
       "      <td>0.046709</td>\n",
       "      <td>-0.032983</td>\n",
       "      <td>0.021336</td>\n",
       "      <td>0.040288</td>\n",
       "      <td>0.115151</td>\n",
       "      <td>...</td>\n",
       "      <td>-0.034822</td>\n",
       "      <td>0.029059</td>\n",
       "      <td>0.036163</td>\n",
       "      <td>0.073927</td>\n",
       "      <td>0.092462</td>\n",
       "      <td>0.077456</td>\n",
       "      <td>0.058480</td>\n",
       "      <td>-0.071883</td>\n",
       "      <td>0.114570</td>\n",
       "      <td>0.089503</td>\n",
       "    </tr>\n",
       "    <tr>\n",
       "      <th>58402</th>\n",
       "      <td>-0.035849</td>\n",
       "      <td>0.222425</td>\n",
       "      <td>-0.046319</td>\n",
       "      <td>-0.050833</td>\n",
       "      <td>-0.001862</td>\n",
       "      <td>-0.055264</td>\n",
       "      <td>-0.070974</td>\n",
       "      <td>0.002338</td>\n",
       "      <td>0.046020</td>\n",
       "      <td>-0.055583</td>\n",
       "      <td>...</td>\n",
       "      <td>-0.029715</td>\n",
       "      <td>-0.019601</td>\n",
       "      <td>0.091913</td>\n",
       "      <td>0.013811</td>\n",
       "      <td>0.106003</td>\n",
       "      <td>0.018668</td>\n",
       "      <td>0.073467</td>\n",
       "      <td>-0.106612</td>\n",
       "      <td>0.005641</td>\n",
       "      <td>0.054428</td>\n",
       "    </tr>\n",
       "    <tr>\n",
       "      <th>58403</th>\n",
       "      <td>-0.011308</td>\n",
       "      <td>0.272369</td>\n",
       "      <td>-0.036697</td>\n",
       "      <td>0.023074</td>\n",
       "      <td>-0.004903</td>\n",
       "      <td>0.012918</td>\n",
       "      <td>-0.085521</td>\n",
       "      <td>0.004318</td>\n",
       "      <td>0.022689</td>\n",
       "      <td>0.069498</td>\n",
       "      <td>...</td>\n",
       "      <td>-0.000488</td>\n",
       "      <td>-0.039147</td>\n",
       "      <td>0.149024</td>\n",
       "      <td>0.030676</td>\n",
       "      <td>0.028170</td>\n",
       "      <td>0.062823</td>\n",
       "      <td>0.121045</td>\n",
       "      <td>-0.035058</td>\n",
       "      <td>0.000499</td>\n",
       "      <td>0.053418</td>\n",
       "    </tr>\n",
       "    <tr>\n",
       "      <th>58404</th>\n",
       "      <td>-0.063605</td>\n",
       "      <td>0.145039</td>\n",
       "      <td>-0.036599</td>\n",
       "      <td>-0.043538</td>\n",
       "      <td>-0.060222</td>\n",
       "      <td>-0.022842</td>\n",
       "      <td>-0.021268</td>\n",
       "      <td>-0.051281</td>\n",
       "      <td>0.036643</td>\n",
       "      <td>0.011080</td>\n",
       "      <td>...</td>\n",
       "      <td>-0.035106</td>\n",
       "      <td>-0.027381</td>\n",
       "      <td>0.102796</td>\n",
       "      <td>0.049116</td>\n",
       "      <td>0.049857</td>\n",
       "      <td>0.016275</td>\n",
       "      <td>0.051720</td>\n",
       "      <td>-0.084249</td>\n",
       "      <td>0.084723</td>\n",
       "      <td>0.053747</td>\n",
       "    </tr>\n",
       "  </tbody>\n",
       "</table>\n",
       "<p>58405 rows × 300 columns</p>\n",
       "</div>"
      ],
      "text/plain": [
       "         char_0    char_1    char_2    char_3    char_4    char_5    char_6  \\\n",
       "0     -0.033709  0.242503 -0.171803 -0.023677  0.076615  0.014258 -0.055446   \n",
       "1     -0.007201  0.256056 -0.150317 -0.036970  0.069526  0.029032 -0.075840   \n",
       "2     -0.046384  0.232557 -0.062982  0.003217  0.016654 -0.056337 -0.006642   \n",
       "3     -0.003068  0.253867 -0.021721  0.036688  0.077250 -0.033863  0.054679   \n",
       "4      0.028769  0.156787 -0.060777  0.020189  0.032972  0.005192  0.009878   \n",
       "...         ...       ...       ...       ...       ...       ...       ...   \n",
       "58400  0.003164  0.223701 -0.069305 -0.040563  0.024109 -0.019927  0.000992   \n",
       "58401 -0.010187  0.236410 -0.079693 -0.084997  0.023736  0.046709 -0.032983   \n",
       "58402 -0.035849  0.222425 -0.046319 -0.050833 -0.001862 -0.055264 -0.070974   \n",
       "58403 -0.011308  0.272369 -0.036697  0.023074 -0.004903  0.012918 -0.085521   \n",
       "58404 -0.063605  0.145039 -0.036599 -0.043538 -0.060222 -0.022842 -0.021268   \n",
       "\n",
       "         char_7    char_8    char_9  ...  char_290  char_291  char_292  \\\n",
       "0      0.003849 -0.030292  0.053203  ... -0.003379  0.020401  0.076694   \n",
       "1      0.127239  0.043852  0.154765  ... -0.021832  0.027505  0.080909   \n",
       "2      0.061128 -0.025081  0.083010  ... -0.040497 -0.073900  0.009410   \n",
       "3     -0.056870 -0.045017  0.174222  ... -0.082848  0.056733  0.028177   \n",
       "4      0.013911  0.103503  0.062920  ... -0.088808  0.026080  0.103571   \n",
       "...         ...       ...       ...  ...       ...       ...       ...   \n",
       "58400  0.112055  0.044526  0.013215  ... -0.014902 -0.012244  0.045194   \n",
       "58401  0.021336  0.040288  0.115151  ... -0.034822  0.029059  0.036163   \n",
       "58402  0.002338  0.046020 -0.055583  ... -0.029715 -0.019601  0.091913   \n",
       "58403  0.004318  0.022689  0.069498  ... -0.000488 -0.039147  0.149024   \n",
       "58404 -0.051281  0.036643  0.011080  ... -0.035106 -0.027381  0.102796   \n",
       "\n",
       "       char_293  char_294  char_295  char_296  char_297  char_298  char_299  \n",
       "0      0.018111  0.000624  0.009766  0.054347 -0.064101  0.056249  0.068927  \n",
       "1      0.054135 -0.003762  0.075207  0.070294 -0.077187  0.054489  0.069343  \n",
       "2      0.076790 -0.021548  0.063108  0.028991 -0.055256  0.066123  0.110284  \n",
       "3      0.105787  0.032486  0.070363  0.071506 -0.149105  0.081617  0.042613  \n",
       "4      0.029077 -0.002270 -0.017608  0.042008 -0.041048  0.127885  0.060874  \n",
       "...         ...       ...       ...       ...       ...       ...       ...  \n",
       "58400  0.013524 -0.000574 -0.045446  0.053148 -0.040465  0.079521  0.049010  \n",
       "58401  0.073927  0.092462  0.077456  0.058480 -0.071883  0.114570  0.089503  \n",
       "58402  0.013811  0.106003  0.018668  0.073467 -0.106612  0.005641  0.054428  \n",
       "58403  0.030676  0.028170  0.062823  0.121045 -0.035058  0.000499  0.053418  \n",
       "58404  0.049116  0.049857  0.016275  0.051720 -0.084249  0.084723  0.053747  \n",
       "\n",
       "[58405 rows x 300 columns]"
      ]
     },
     "execution_count": 45,
     "metadata": {},
     "output_type": "execute_result"
    }
   ],
   "source": [
    "train_avg_df"
   ]
  },
  {
   "cell_type": "code",
   "execution_count": null,
   "metadata": {},
   "outputs": [],
   "source": []
  },
  {
   "cell_type": "code",
   "execution_count": null,
   "metadata": {},
   "outputs": [],
   "source": [
    "#訓練模型前記得切資料"
   ]
  },
  {
   "cell_type": "code",
   "execution_count": 78,
   "metadata": {},
   "outputs": [
    {
     "data": {
      "text/plain": [
       "(58405, 2)"
      ]
     },
     "execution_count": 78,
     "metadata": {},
     "output_type": "execute_result"
    }
   ],
   "source": [
    "X_train.shape"
   ]
  },
  {
   "cell_type": "code",
   "execution_count": 79,
   "metadata": {},
   "outputs": [
    {
     "data": {
      "text/plain": [
       "(14602, 2)"
      ]
     },
     "execution_count": 79,
     "metadata": {},
     "output_type": "execute_result"
    }
   ],
   "source": [
    "X_test.shape"
   ]
  },
  {
   "cell_type": "code",
   "execution_count": null,
   "metadata": {},
   "outputs": [],
   "source": []
  },
  {
   "cell_type": "code",
   "execution_count": null,
   "metadata": {},
   "outputs": [],
   "source": [
    "#模型訓練"
   ]
  },
  {
   "cell_type": "code",
   "execution_count": 46,
   "metadata": {},
   "outputs": [],
   "source": [
    "from sklearn.multiclass import OneVsRestClassifier\n",
    "from xgboost import XGBClassifier\n",
    "from sklearn.preprocessing import MultiLabelBinarizer"
   ]
  },
  {
   "cell_type": "code",
   "execution_count": 82,
   "metadata": {},
   "outputs": [],
   "source": [
    "def single_label_model(col):\n",
    "    Y_train_ = Y_train[col]\n",
    "    xgb_model=XGBClassifier(objective='binary:logistic',learning_rate=0.2,min_child_weight=1,max_depth=6)\n",
    "    xgb_model.fit(train_avg_df,Y_train_,eval_metric='merror')\n",
    "    return xgb_model"
   ]
  },
  {
   "cell_type": "markdown",
   "metadata": {},
   "source": [
    "參考文獻：\n",
    "\n",
    "Multiclass & Multilabel Classification with XGBoost\n",
    "https://medium.com/@gabrielziegler3/multiclass-multilabel-classification-with-xgboost-66195e4d9f2d\n",
    "使用 scikit-learn 實現多類別及多標籤分類算法\n",
    "https://www.cnblogs.com/Allen-rg/p/9492303.html"
   ]
  },
  {
   "cell_type": "code",
   "execution_count": 99,
   "metadata": {},
   "outputs": [],
   "source": [
    "def single_label_predict(model,testdf,col):\n",
    "    from sklearn.metrics import accuracy_score, hamming_loss\n",
    "    import matplotlib.pyplot as plt\n",
    "    from matplotlib.pylab import rcParams\n",
    "    Y_test_ = Y_test[col]\n",
    "    y_pred = model.predict(testdf)\n",
    "    accuracy = accuracy_score(Y_test_, y_pred) * 100.0\n",
    "    HL = hamming_loss(Y_test_, y_pred)\n",
    "    return accuracy, HL\n",
    "    \n",
    "    "
   ]
  },
  {
   "cell_type": "code",
   "execution_count": 55,
   "metadata": {},
   "outputs": [
    {
     "data": {
      "text/plain": [
       "0    55898\n",
       "1     2507\n",
       "Name: cat_0, dtype: int64"
      ]
     },
     "execution_count": 55,
     "metadata": {},
     "output_type": "execute_result"
    }
   ],
   "source": [
    "Y_train['cat_0'].value_counts()"
   ]
  },
  {
   "cell_type": "code",
   "execution_count": 81,
   "metadata": {},
   "outputs": [
    {
     "data": {
      "text/plain": [
       "XGBClassifier(base_score=0.5, booster='gbtree', colsample_bylevel=1,\n",
       "              colsample_bynode=1, colsample_bytree=1, gamma=0,\n",
       "              learning_rate=0.2, max_delta_step=0, max_depth=6,\n",
       "              min_child_weight=1, missing=None, n_estimators=100, n_jobs=1,\n",
       "              nthread=None, objective='binary:logistic', random_state=0,\n",
       "              reg_alpha=0, reg_lambda=1, scale_pos_weight=1, seed=None,\n",
       "              silent=None, subsample=1, verbosity=1)"
      ]
     },
     "execution_count": 81,
     "metadata": {},
     "output_type": "execute_result"
    }
   ],
   "source": [
    "Y_train_ = Y_train['cat_0']\n",
    "\n",
    "xgb_model=XGBClassifier(objective='binary:logistic',learning_rate=0.2,min_child_weight=1,max_depth=6)\n",
    "xgb_model.fit(train_avg_df,Y_train_,eval_metric='merror')\n",
    "\n",
    "# model0 = single_label_model('cat_0')\n"
   ]
  },
  {
   "cell_type": "code",
   "execution_count": 100,
   "metadata": {},
   "outputs": [
    {
     "name": "stdout",
     "output_type": "stream",
     "text": [
      "(98.71935351321737, 0.012806464867826325)\n"
     ]
    }
   ],
   "source": [
    "accuracy0 = single_label_predict(xgb_model,test_avg_df,'cat_0' )\n",
    "print(accuracy0)"
   ]
  },
  {
   "cell_type": "code",
   "execution_count": null,
   "metadata": {},
   "outputs": [],
   "source": []
  },
  {
   "cell_type": "code",
   "execution_count": 103,
   "metadata": {},
   "outputs": [
    {
     "name": "stdout",
     "output_type": "stream",
     "text": [
      "(97.04150116422407, 0.02958498835775921)\n"
     ]
    }
   ],
   "source": [
    "# model1 = single_label_model('cat_1')\n",
    "accuracy1 = single_label_predict(model1,test_avg_df,'cat_1' )\n",
    "print(accuracy1)"
   ]
  },
  {
   "cell_type": "code",
   "execution_count": 104,
   "metadata": {},
   "outputs": [
    {
     "name": "stdout",
     "output_type": "stream",
     "text": [
      "(97.69894534995206, 0.023010546500479387)\n"
     ]
    }
   ],
   "source": [
    "# model2 = single_label_model('cat_2')\n",
    "accuracy2 = single_label_predict(model2,test_avg_df,'cat_2' )\n",
    "print(accuracy2)"
   ]
  },
  {
   "cell_type": "code",
   "execution_count": 105,
   "metadata": {},
   "outputs": [
    {
     "name": "stdout",
     "output_type": "stream",
     "text": [
      "(98.72620189015203, 0.01273798109847966)\n"
     ]
    }
   ],
   "source": [
    "# model3 = single_label_model('cat_3')\n",
    "accuracy3 = single_label_predict(model3,test_avg_df,'cat_3' )\n",
    "print(accuracy3)"
   ]
  },
  {
   "cell_type": "code",
   "execution_count": 106,
   "metadata": {},
   "outputs": [
    {
     "name": "stdout",
     "output_type": "stream",
     "text": [
      "(98.69880838241338, 0.01301191617586632)\n"
     ]
    }
   ],
   "source": [
    "# model4 = single_label_model('cat_4')\n",
    "accuracy4 = single_label_predict(model4,test_avg_df,'cat_4' )\n",
    "print(accuracy4)"
   ]
  },
  {
   "cell_type": "code",
   "execution_count": 107,
   "metadata": {},
   "outputs": [
    {
     "name": "stdout",
     "output_type": "stream",
     "text": [
      "(98.18518011231339, 0.01814819887686618)\n"
     ]
    }
   ],
   "source": [
    "# model5 = single_label_model('cat_5')\n",
    "accuracy5 = single_label_predict(model5,test_avg_df,'cat_5' )\n",
    "print(accuracy5)"
   ]
  },
  {
   "cell_type": "code",
   "execution_count": 108,
   "metadata": {},
   "outputs": [
    {
     "name": "stdout",
     "output_type": "stream",
     "text": [
      "(96.2813313244761, 0.03718668675523901)\n"
     ]
    }
   ],
   "source": [
    "# model6 = single_label_model('cat_6')\n",
    "accuracy6 = single_label_predict(model6,test_avg_df,'cat_6' )\n",
    "print(accuracy6)"
   ]
  },
  {
   "cell_type": "code",
   "execution_count": 109,
   "metadata": {},
   "outputs": [
    {
     "name": "stdout",
     "output_type": "stream",
     "text": [
      "(98.5070538282427, 0.014929461717572935)\n"
     ]
    }
   ],
   "source": [
    "# model7 = single_label_model('cat_7')\n",
    "accuracy7 = single_label_predict(model7,test_avg_df,'cat_7' )\n",
    "print(accuracy7)"
   ]
  },
  {
   "cell_type": "code",
   "execution_count": 110,
   "metadata": {},
   "outputs": [
    {
     "name": "stdout",
     "output_type": "stream",
     "text": [
      "(94.43226955211614, 0.055677304478838514)\n"
     ]
    }
   ],
   "source": [
    "# model8 = single_label_model('cat_8')\n",
    "accuracy8 = single_label_predict(model8,test_avg_df,'cat_8' )\n",
    "print(accuracy8)"
   ]
  },
  {
   "cell_type": "code",
   "execution_count": 111,
   "metadata": {},
   "outputs": [
    {
     "name": "stdout",
     "output_type": "stream",
     "text": [
      "(97.6510067114094, 0.02348993288590604)\n"
     ]
    }
   ],
   "source": [
    "# model9 = single_label_model('cat_9')\n",
    "accuracy9 = single_label_predict(model9,test_avg_df,'cat_9' )\n",
    "print(accuracy9)"
   ]
  },
  {
   "cell_type": "code",
   "execution_count": 112,
   "metadata": {},
   "outputs": [
    {
     "name": "stdout",
     "output_type": "stream",
     "text": [
      "(97.04834954115874, 0.029516504588412547)\n"
     ]
    }
   ],
   "source": [
    "# model10 = single_label_model('cat_10')\n",
    "accuracy10 = single_label_predict(model10,test_avg_df,'cat_10' )\n",
    "print(accuracy10)"
   ]
  },
  {
   "cell_type": "code",
   "execution_count": 113,
   "metadata": {},
   "outputs": [
    {
     "name": "stdout",
     "output_type": "stream",
     "text": [
      "(95.1171072455828, 0.04882892754417203)\n"
     ]
    }
   ],
   "source": [
    "# model11 = single_label_model('cat_11')\n",
    "accuracy11 = single_label_predict(model11,test_avg_df,'cat_11' )\n",
    "print(accuracy11)"
   ]
  },
  {
   "cell_type": "code",
   "execution_count": 114,
   "metadata": {},
   "outputs": [
    {
     "name": "stdout",
     "output_type": "stream",
     "text": [
      "(98.17148335844405, 0.018285166415559512)\n"
     ]
    }
   ],
   "source": [
    "# model12 = single_label_model('cat_12')\n",
    "accuracy12 = single_label_predict(model12,test_avg_df,'cat_12' )\n",
    "print(accuracy12)"
   ]
  },
  {
   "cell_type": "code",
   "execution_count": 115,
   "metadata": {},
   "outputs": [
    {
     "name": "stdout",
     "output_type": "stream",
     "text": [
      "(98.91110806738803, 0.01088891932611971)\n"
     ]
    }
   ],
   "source": [
    "# model13 = single_label_model('cat_13')\n",
    "accuracy13 = single_label_predict(model13,test_avg_df,'cat_13' )\n",
    "print(accuracy13)"
   ]
  },
  {
   "cell_type": "code",
   "execution_count": null,
   "metadata": {},
   "outputs": [],
   "source": []
  },
  {
   "cell_type": "code",
   "execution_count": null,
   "metadata": {},
   "outputs": [],
   "source": []
  },
  {
   "cell_type": "code",
   "execution_count": null,
   "metadata": {},
   "outputs": [],
   "source": []
  },
  {
   "cell_type": "code",
   "execution_count": null,
   "metadata": {},
   "outputs": [],
   "source": []
  },
  {
   "cell_type": "code",
   "execution_count": null,
   "metadata": {},
   "outputs": [],
   "source": []
  },
  {
   "cell_type": "code",
   "execution_count": null,
   "metadata": {},
   "outputs": [],
   "source": []
  },
  {
   "cell_type": "code",
   "execution_count": null,
   "metadata": {},
   "outputs": [],
   "source": []
  },
  {
   "cell_type": "code",
   "execution_count": null,
   "metadata": {},
   "outputs": [],
   "source": []
  },
  {
   "cell_type": "code",
   "execution_count": null,
   "metadata": {},
   "outputs": [],
   "source": []
  },
  {
   "cell_type": "code",
   "execution_count": null,
   "metadata": {},
   "outputs": [],
   "source": []
  },
  {
   "cell_type": "code",
   "execution_count": null,
   "metadata": {},
   "outputs": [],
   "source": []
  },
  {
   "cell_type": "code",
   "execution_count": null,
   "metadata": {},
   "outputs": [],
   "source": []
  },
  {
   "cell_type": "code",
   "execution_count": null,
   "metadata": {},
   "outputs": [],
   "source": []
  },
  {
   "cell_type": "code",
   "execution_count": null,
   "metadata": {},
   "outputs": [],
   "source": []
  },
  {
   "cell_type": "code",
   "execution_count": null,
   "metadata": {},
   "outputs": [],
   "source": []
  },
  {
   "cell_type": "code",
   "execution_count": null,
   "metadata": {},
   "outputs": [],
   "source": []
  }
 ],
 "metadata": {
  "kernelspec": {
   "display_name": "Python 3",
   "language": "python",
   "name": "python3"
  },
  "language_info": {
   "codemirror_mode": {
    "name": "ipython",
    "version": 3
   },
   "file_extension": ".py",
   "mimetype": "text/x-python",
   "name": "python",
   "nbconvert_exporter": "python",
   "pygments_lexer": "ipython3",
   "version": "3.7.3"
  }
 },
 "nbformat": 4,
 "nbformat_minor": 4
}
