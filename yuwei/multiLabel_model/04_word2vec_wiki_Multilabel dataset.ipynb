{
 "cells": [
  {
   "cell_type": "code",
   "execution_count": 1,
   "metadata": {},
   "outputs": [],
   "source": [
    "import re\n",
    "import pandas as pd\n",
    "import numpy as np\n",
    "import pickle\n",
    "import os\n",
    "import jieba\n",
    "import jieba.posseg as pseg"
   ]
  },
  {
   "cell_type": "code",
   "execution_count": 2,
   "metadata": {},
   "outputs": [],
   "source": [
    "#將繁體字進行切斷"
   ]
  },
  {
   "cell_type": "code",
   "execution_count": 4,
   "metadata": {},
   "outputs": [],
   "source": [
    "data_path = \"./dataset_5.csv\"\n",
    "data = pd.read_csv(data_path, engine='python')"
   ]
  },
  {
   "cell_type": "code",
   "execution_count": 5,
   "metadata": {},
   "outputs": [
    {
     "name": "stdout",
     "output_type": "stream",
     "text": [
      "<class 'pandas.core.frame.DataFrame'>\n",
      "RangeIndex: 87253 entries, 0 to 87252\n",
      "Data columns (total 5 columns):\n",
      "cbodyurl      87253 non-null object\n",
      "title         87253 non-null object\n",
      "txtcontent    85427 non-null object\n",
      "label         87253 non-null object\n",
      "text          87253 non-null object\n",
      "dtypes: object(5)\n",
      "memory usage: 3.3+ MB\n"
     ]
    }
   ],
   "source": [
    "data.info()"
   ]
  },
  {
   "cell_type": "code",
   "execution_count": 6,
   "metadata": {},
   "outputs": [
    {
     "data": {
      "text/html": [
       "<div>\n",
       "<style scoped>\n",
       "    .dataframe tbody tr th:only-of-type {\n",
       "        vertical-align: middle;\n",
       "    }\n",
       "\n",
       "    .dataframe tbody tr th {\n",
       "        vertical-align: top;\n",
       "    }\n",
       "\n",
       "    .dataframe thead th {\n",
       "        text-align: right;\n",
       "    }\n",
       "</style>\n",
       "<table border=\"1\" class=\"dataframe\">\n",
       "  <thead>\n",
       "    <tr style=\"text-align: right;\">\n",
       "      <th></th>\n",
       "      <th>cbodyurl</th>\n",
       "      <th>title</th>\n",
       "      <th>txtcontent</th>\n",
       "      <th>label</th>\n",
       "      <th>text</th>\n",
       "    </tr>\n",
       "  </thead>\n",
       "  <tbody>\n",
       "    <tr>\n",
       "      <th>0</th>\n",
       "      <td>https://inetrsc.cupoy.com/http176.34.63.351173...</td>\n",
       "      <td>近看膚質也好到像自備濾鏡！曾之喬偷懶急救居然只靠這一招 - FG彩妝保養 - Fashion...</td>\n",
       "      <td>(圖片來源/FB@曾之喬)在還沒看到曾之喬以前，真的無法相信有人的膚質可以好到這種程度，大笑...</td>\n",
       "      <td>3</td>\n",
       "      <td>在還沒看到曾之喬以前，真的無法相信有人的膚質可以好到這種程度，大笑起來沒有細紋，膚質平滑，白...</td>\n",
       "    </tr>\n",
       "    <tr>\n",
       "      <th>1</th>\n",
       "      <td>https://inetrsc.cupoy.com/http176.34.63.351173...</td>\n",
       "      <td>夾睫毛總是夾到眼皮？睫毛長又翹「兩段式」夾、刷法技巧大公開 - FG彩妝保養 - Fashi...</td>\n",
       "      <td>(圖片來源：Pinterest/INSTAGRAM@kerina_hsueh)每次夾睫毛總是...</td>\n",
       "      <td>3</td>\n",
       "      <td>其實夾睫毛不是一件這麼難的事，只是有些步驟常常被忽略~快跟著以下步驟，讓妳就算不用種睫毛，也...</td>\n",
       "    </tr>\n",
       "    <tr>\n",
       "      <th>2</th>\n",
       "      <td>https://inetrsc.cupoy.com/http24h.pchome.com.t...</td>\n",
       "      <td>PChome線上購物 -</td>\n",
       "      <td>NaN</td>\n",
       "      <td>11</td>\n",
       "      <td>但猶豫期並非試用期，請留意，您所退回的商品必須回復原狀（須回復至商品到貨時的原始狀態）並且保...</td>\n",
       "    </tr>\n",
       "    <tr>\n",
       "      <th>3</th>\n",
       "      <td>https://inetrsc.cupoy.com/http24h.pchome.com.t...</td>\n",
       "      <td>PChome線上購物 -</td>\n",
       "      <td>NaN</td>\n",
       "      <td>11</td>\n",
       "      <td>但猶豫期並非試用期，請留意，您所退回的商品必須回復原狀（須回復至商品到貨時的原始狀態）並且保...</td>\n",
       "    </tr>\n",
       "    <tr>\n",
       "      <th>4</th>\n",
       "      <td>https://inetrsc.cupoy.com/http30plus.30.com.tw...</td>\n",
       "      <td>在學賺錢之前，先學會如何管理錢 - 【30雜誌】30+BLOG</td>\n",
       "      <td>即使找到金飯碗，領死薪水是不會致富的！人人稱羨的科技新貴，跳脫舒適圈創業去！人人都想賺錢、人...</td>\n",
       "      <td>6</td>\n",
       "      <td>」這樣的觀念從小就被植入，當時的我一直很想賺錢，學生時代幾乎都會去打工，像是：KTV服務生、...</td>\n",
       "    </tr>\n",
       "  </tbody>\n",
       "</table>\n",
       "</div>"
      ],
      "text/plain": [
       "                                            cbodyurl  \\\n",
       "0  https://inetrsc.cupoy.com/http176.34.63.351173...   \n",
       "1  https://inetrsc.cupoy.com/http176.34.63.351173...   \n",
       "2  https://inetrsc.cupoy.com/http24h.pchome.com.t...   \n",
       "3  https://inetrsc.cupoy.com/http24h.pchome.com.t...   \n",
       "4  https://inetrsc.cupoy.com/http30plus.30.com.tw...   \n",
       "\n",
       "                                               title  \\\n",
       "0  近看膚質也好到像自備濾鏡！曾之喬偷懶急救居然只靠這一招 - FG彩妝保養 - Fashion...   \n",
       "1  夾睫毛總是夾到眼皮？睫毛長又翹「兩段式」夾、刷法技巧大公開 - FG彩妝保養 - Fashi...   \n",
       "2                                       PChome線上購物 -   \n",
       "3                                       PChome線上購物 -   \n",
       "4                    在學賺錢之前，先學會如何管理錢 - 【30雜誌】30+BLOG   \n",
       "\n",
       "                                          txtcontent label  \\\n",
       "0  (圖片來源/FB@曾之喬)在還沒看到曾之喬以前，真的無法相信有人的膚質可以好到這種程度，大笑...     3   \n",
       "1  (圖片來源：Pinterest/INSTAGRAM@kerina_hsueh)每次夾睫毛總是...     3   \n",
       "2                                                NaN    11   \n",
       "3                                                NaN    11   \n",
       "4  即使找到金飯碗，領死薪水是不會致富的！人人稱羨的科技新貴，跳脫舒適圈創業去！人人都想賺錢、人...     6   \n",
       "\n",
       "                                                text  \n",
       "0  在還沒看到曾之喬以前，真的無法相信有人的膚質可以好到這種程度，大笑起來沒有細紋，膚質平滑，白...  \n",
       "1  其實夾睫毛不是一件這麼難的事，只是有些步驟常常被忽略~快跟著以下步驟，讓妳就算不用種睫毛，也...  \n",
       "2  但猶豫期並非試用期，請留意，您所退回的商品必須回復原狀（須回復至商品到貨時的原始狀態）並且保...  \n",
       "3  但猶豫期並非試用期，請留意，您所退回的商品必須回復原狀（須回復至商品到貨時的原始狀態）並且保...  \n",
       "4  」這樣的觀念從小就被植入，當時的我一直很想賺錢，學生時代幾乎都會去打工，像是：KTV服務生、...  "
      ]
     },
     "execution_count": 6,
     "metadata": {},
     "output_type": "execute_result"
    }
   ],
   "source": [
    "data.head()"
   ]
  },
  {
   "cell_type": "code",
   "execution_count": 7,
   "metadata": {},
   "outputs": [
    {
     "name": "stdout",
     "output_type": "stream",
     "text": [
      "Processing /home/jovyan/.cache/pip/wheels/54/8a/0f/405db0ba3f02d9af8211422d3ae94c47b3296256f168ac1e68/opencc_python_reimplemented-0.1.6-py2.py3-none-any.whl\n",
      "Installing collected packages: opencc-python-reimplemented\n",
      "Successfully installed opencc-python-reimplemented-0.1.6\n"
     ]
    }
   ],
   "source": [
    "!pip install opencc-python-reimplemented"
   ]
  },
  {
   "cell_type": "code",
   "execution_count": 8,
   "metadata": {},
   "outputs": [],
   "source": [
    "from opencc import OpenCC\n",
    "cc = OpenCC('s2tw')\n",
    "\n",
    "data_raw = data['text'].tolist()\n",
    "new_data = []\n",
    "\n",
    "for i in data_raw:\n",
    "    i = str(i).lower()\n",
    "    new_data.append(cc.convert(i))\n",
    "#     print(new_data)\n",
    "    \n",
    "\n",
    "#data_raw['tw_text'] = cc.convert(data_raw['text'])"
   ]
  },
  {
   "cell_type": "code",
   "execution_count": 10,
   "metadata": {},
   "outputs": [
    {
     "data": {
      "text/html": [
       "<div>\n",
       "<style scoped>\n",
       "    .dataframe tbody tr th:only-of-type {\n",
       "        vertical-align: middle;\n",
       "    }\n",
       "\n",
       "    .dataframe tbody tr th {\n",
       "        vertical-align: top;\n",
       "    }\n",
       "\n",
       "    .dataframe thead th {\n",
       "        text-align: right;\n",
       "    }\n",
       "</style>\n",
       "<table border=\"1\" class=\"dataframe\">\n",
       "  <thead>\n",
       "    <tr style=\"text-align: right;\">\n",
       "      <th></th>\n",
       "      <th>label</th>\n",
       "    </tr>\n",
       "  </thead>\n",
       "  <tbody>\n",
       "    <tr>\n",
       "      <th>0</th>\n",
       "      <td>3</td>\n",
       "    </tr>\n",
       "    <tr>\n",
       "      <th>1</th>\n",
       "      <td>3</td>\n",
       "    </tr>\n",
       "    <tr>\n",
       "      <th>2</th>\n",
       "      <td>11</td>\n",
       "    </tr>\n",
       "    <tr>\n",
       "      <th>3</th>\n",
       "      <td>11</td>\n",
       "    </tr>\n",
       "    <tr>\n",
       "      <th>4</th>\n",
       "      <td>6</td>\n",
       "    </tr>\n",
       "  </tbody>\n",
       "</table>\n",
       "</div>"
      ],
      "text/plain": [
       "  label\n",
       "0     3\n",
       "1     3\n",
       "2    11\n",
       "3    11\n",
       "4     6"
      ]
     },
     "execution_count": 10,
     "metadata": {},
     "output_type": "execute_result"
    }
   ],
   "source": [
    "data_model = data.drop(['cbodyurl','title','txtcontent','text'], axis = 1)\n",
    "data_model.head()"
   ]
  },
  {
   "cell_type": "code",
   "execution_count": 11,
   "metadata": {},
   "outputs": [
    {
     "data": {
      "text/html": [
       "<div>\n",
       "<style scoped>\n",
       "    .dataframe tbody tr th:only-of-type {\n",
       "        vertical-align: middle;\n",
       "    }\n",
       "\n",
       "    .dataframe tbody tr th {\n",
       "        vertical-align: top;\n",
       "    }\n",
       "\n",
       "    .dataframe thead th {\n",
       "        text-align: right;\n",
       "    }\n",
       "</style>\n",
       "<table border=\"1\" class=\"dataframe\">\n",
       "  <thead>\n",
       "    <tr style=\"text-align: right;\">\n",
       "      <th></th>\n",
       "      <th>label</th>\n",
       "      <th>text</th>\n",
       "    </tr>\n",
       "  </thead>\n",
       "  <tbody>\n",
       "    <tr>\n",
       "      <th>0</th>\n",
       "      <td>3</td>\n",
       "      <td>在還沒看到曾之喬以前，真的無法相信有人的膚質可以好到這種程度，大笑起來沒有細紋，膚質平滑，白...</td>\n",
       "    </tr>\n",
       "    <tr>\n",
       "      <th>1</th>\n",
       "      <td>3</td>\n",
       "      <td>其實夾睫毛不是一件這麼難的事，只是有些步驟常常被忽略~快跟著以下步驟，讓妳就算不用種睫毛，也...</td>\n",
       "    </tr>\n",
       "    <tr>\n",
       "      <th>2</th>\n",
       "      <td>11</td>\n",
       "      <td>但猶豫期並非試用期，請留意，您所退回的商品必須回復原狀（須回復至商品到貨時的原始狀態）並且保...</td>\n",
       "    </tr>\n",
       "    <tr>\n",
       "      <th>3</th>\n",
       "      <td>11</td>\n",
       "      <td>但猶豫期並非試用期，請留意，您所退回的商品必須回復原狀（須回復至商品到貨時的原始狀態）並且保...</td>\n",
       "    </tr>\n",
       "    <tr>\n",
       "      <th>4</th>\n",
       "      <td>6</td>\n",
       "      <td>」這樣的觀念從小就被植入，當時的我一直很想賺錢，學生時代幾乎都會去打工，像是：ktv服務生、...</td>\n",
       "    </tr>\n",
       "  </tbody>\n",
       "</table>\n",
       "</div>"
      ],
      "text/plain": [
       "  label                                               text\n",
       "0     3  在還沒看到曾之喬以前，真的無法相信有人的膚質可以好到這種程度，大笑起來沒有細紋，膚質平滑，白...\n",
       "1     3  其實夾睫毛不是一件這麼難的事，只是有些步驟常常被忽略~快跟著以下步驟，讓妳就算不用種睫毛，也...\n",
       "2    11  但猶豫期並非試用期，請留意，您所退回的商品必須回復原狀（須回復至商品到貨時的原始狀態）並且保...\n",
       "3    11  但猶豫期並非試用期，請留意，您所退回的商品必須回復原狀（須回復至商品到貨時的原始狀態）並且保...\n",
       "4     6  」這樣的觀念從小就被植入，當時的我一直很想賺錢，學生時代幾乎都會去打工，像是：ktv服務生、..."
      ]
     },
     "execution_count": 11,
     "metadata": {},
     "output_type": "execute_result"
    }
   ],
   "source": [
    "data_model['text'] = new_data\n",
    "data_model.head()"
   ]
  },
  {
   "cell_type": "code",
   "execution_count": 12,
   "metadata": {},
   "outputs": [],
   "source": [
    "data.to_csv('dataset_8_multi.csv',index=False)"
   ]
  },
  {
   "cell_type": "code",
   "execution_count": null,
   "metadata": {},
   "outputs": [],
   "source": []
  },
  {
   "cell_type": "code",
   "execution_count": null,
   "metadata": {},
   "outputs": [],
   "source": []
  },
  {
   "cell_type": "code",
   "execution_count": null,
   "metadata": {},
   "outputs": [],
   "source": []
  },
  {
   "cell_type": "code",
   "execution_count": null,
   "metadata": {},
   "outputs": [],
   "source": []
  },
  {
   "cell_type": "code",
   "execution_count": 64,
   "metadata": {},
   "outputs": [],
   "source": [
    "# data_path = \"./dataset_7.csv\"\n",
    "# data_model = pd.read_csv(data_path, engine='python')"
   ]
  },
  {
   "cell_type": "code",
   "execution_count": null,
   "metadata": {},
   "outputs": [],
   "source": [
    "# data_model.head()"
   ]
  },
  {
   "cell_type": "code",
   "execution_count": 13,
   "metadata": {},
   "outputs": [],
   "source": [
    "#處理label\n",
    "import re\n",
    "import sys\n",
    "label_idxs = []\n",
    "label_vs = []\n",
    "for index, article in data_model.iterrows():\n",
    "    label_str = str(article['label'])\n",
    "    label_arr = re.split(r'\\t+', label_str)\n",
    "    label_arr = [int(l) for l in label_arr]\n",
    "    label_idxs.append(index)\n",
    "    \n",
    "    v = np.zeros(14).astype('int32')\n",
    "    for li in label_arr:\n",
    "        v[li] = 1\n",
    "    label_vs.append(v)"
   ]
  },
  {
   "cell_type": "code",
   "execution_count": 14,
   "metadata": {},
   "outputs": [
    {
     "data": {
      "text/html": [
       "<div>\n",
       "<style scoped>\n",
       "    .dataframe tbody tr th:only-of-type {\n",
       "        vertical-align: middle;\n",
       "    }\n",
       "\n",
       "    .dataframe tbody tr th {\n",
       "        vertical-align: top;\n",
       "    }\n",
       "\n",
       "    .dataframe thead th {\n",
       "        text-align: right;\n",
       "    }\n",
       "</style>\n",
       "<table border=\"1\" class=\"dataframe\">\n",
       "  <thead>\n",
       "    <tr style=\"text-align: right;\">\n",
       "      <th></th>\n",
       "      <th>cat_0</th>\n",
       "      <th>cat_1</th>\n",
       "      <th>cat_2</th>\n",
       "      <th>cat_3</th>\n",
       "      <th>cat_4</th>\n",
       "      <th>cat_5</th>\n",
       "      <th>cat_6</th>\n",
       "      <th>cat_7</th>\n",
       "      <th>cat_8</th>\n",
       "      <th>cat_9</th>\n",
       "      <th>cat_10</th>\n",
       "      <th>cat_11</th>\n",
       "      <th>cat_12</th>\n",
       "      <th>cat_13</th>\n",
       "    </tr>\n",
       "  </thead>\n",
       "  <tbody>\n",
       "    <tr>\n",
       "      <th>0</th>\n",
       "      <td>0</td>\n",
       "      <td>0</td>\n",
       "      <td>0</td>\n",
       "      <td>1</td>\n",
       "      <td>0</td>\n",
       "      <td>0</td>\n",
       "      <td>0</td>\n",
       "      <td>0</td>\n",
       "      <td>0</td>\n",
       "      <td>0</td>\n",
       "      <td>0</td>\n",
       "      <td>0</td>\n",
       "      <td>0</td>\n",
       "      <td>0</td>\n",
       "    </tr>\n",
       "    <tr>\n",
       "      <th>1</th>\n",
       "      <td>0</td>\n",
       "      <td>0</td>\n",
       "      <td>0</td>\n",
       "      <td>1</td>\n",
       "      <td>0</td>\n",
       "      <td>0</td>\n",
       "      <td>0</td>\n",
       "      <td>0</td>\n",
       "      <td>0</td>\n",
       "      <td>0</td>\n",
       "      <td>0</td>\n",
       "      <td>0</td>\n",
       "      <td>0</td>\n",
       "      <td>0</td>\n",
       "    </tr>\n",
       "    <tr>\n",
       "      <th>2</th>\n",
       "      <td>0</td>\n",
       "      <td>0</td>\n",
       "      <td>0</td>\n",
       "      <td>0</td>\n",
       "      <td>0</td>\n",
       "      <td>0</td>\n",
       "      <td>0</td>\n",
       "      <td>0</td>\n",
       "      <td>0</td>\n",
       "      <td>0</td>\n",
       "      <td>0</td>\n",
       "      <td>1</td>\n",
       "      <td>0</td>\n",
       "      <td>0</td>\n",
       "    </tr>\n",
       "    <tr>\n",
       "      <th>3</th>\n",
       "      <td>0</td>\n",
       "      <td>0</td>\n",
       "      <td>0</td>\n",
       "      <td>0</td>\n",
       "      <td>0</td>\n",
       "      <td>0</td>\n",
       "      <td>0</td>\n",
       "      <td>0</td>\n",
       "      <td>0</td>\n",
       "      <td>0</td>\n",
       "      <td>0</td>\n",
       "      <td>1</td>\n",
       "      <td>0</td>\n",
       "      <td>0</td>\n",
       "    </tr>\n",
       "    <tr>\n",
       "      <th>4</th>\n",
       "      <td>0</td>\n",
       "      <td>0</td>\n",
       "      <td>0</td>\n",
       "      <td>0</td>\n",
       "      <td>0</td>\n",
       "      <td>0</td>\n",
       "      <td>1</td>\n",
       "      <td>0</td>\n",
       "      <td>0</td>\n",
       "      <td>0</td>\n",
       "      <td>0</td>\n",
       "      <td>0</td>\n",
       "      <td>0</td>\n",
       "      <td>0</td>\n",
       "    </tr>\n",
       "    <tr>\n",
       "      <th>...</th>\n",
       "      <td>...</td>\n",
       "      <td>...</td>\n",
       "      <td>...</td>\n",
       "      <td>...</td>\n",
       "      <td>...</td>\n",
       "      <td>...</td>\n",
       "      <td>...</td>\n",
       "      <td>...</td>\n",
       "      <td>...</td>\n",
       "      <td>...</td>\n",
       "      <td>...</td>\n",
       "      <td>...</td>\n",
       "      <td>...</td>\n",
       "      <td>...</td>\n",
       "    </tr>\n",
       "    <tr>\n",
       "      <th>87248</th>\n",
       "      <td>0</td>\n",
       "      <td>0</td>\n",
       "      <td>0</td>\n",
       "      <td>0</td>\n",
       "      <td>0</td>\n",
       "      <td>0</td>\n",
       "      <td>0</td>\n",
       "      <td>0</td>\n",
       "      <td>0</td>\n",
       "      <td>1</td>\n",
       "      <td>0</td>\n",
       "      <td>0</td>\n",
       "      <td>0</td>\n",
       "      <td>0</td>\n",
       "    </tr>\n",
       "    <tr>\n",
       "      <th>87249</th>\n",
       "      <td>0</td>\n",
       "      <td>0</td>\n",
       "      <td>0</td>\n",
       "      <td>0</td>\n",
       "      <td>0</td>\n",
       "      <td>0</td>\n",
       "      <td>0</td>\n",
       "      <td>0</td>\n",
       "      <td>0</td>\n",
       "      <td>1</td>\n",
       "      <td>0</td>\n",
       "      <td>0</td>\n",
       "      <td>0</td>\n",
       "      <td>0</td>\n",
       "    </tr>\n",
       "    <tr>\n",
       "      <th>87250</th>\n",
       "      <td>0</td>\n",
       "      <td>0</td>\n",
       "      <td>0</td>\n",
       "      <td>0</td>\n",
       "      <td>0</td>\n",
       "      <td>0</td>\n",
       "      <td>0</td>\n",
       "      <td>0</td>\n",
       "      <td>0</td>\n",
       "      <td>1</td>\n",
       "      <td>0</td>\n",
       "      <td>0</td>\n",
       "      <td>0</td>\n",
       "      <td>0</td>\n",
       "    </tr>\n",
       "    <tr>\n",
       "      <th>87251</th>\n",
       "      <td>0</td>\n",
       "      <td>0</td>\n",
       "      <td>0</td>\n",
       "      <td>0</td>\n",
       "      <td>0</td>\n",
       "      <td>0</td>\n",
       "      <td>0</td>\n",
       "      <td>0</td>\n",
       "      <td>0</td>\n",
       "      <td>1</td>\n",
       "      <td>0</td>\n",
       "      <td>0</td>\n",
       "      <td>0</td>\n",
       "      <td>0</td>\n",
       "    </tr>\n",
       "    <tr>\n",
       "      <th>87252</th>\n",
       "      <td>0</td>\n",
       "      <td>0</td>\n",
       "      <td>0</td>\n",
       "      <td>0</td>\n",
       "      <td>0</td>\n",
       "      <td>0</td>\n",
       "      <td>0</td>\n",
       "      <td>0</td>\n",
       "      <td>0</td>\n",
       "      <td>1</td>\n",
       "      <td>0</td>\n",
       "      <td>0</td>\n",
       "      <td>0</td>\n",
       "      <td>0</td>\n",
       "    </tr>\n",
       "  </tbody>\n",
       "</table>\n",
       "<p>87253 rows × 14 columns</p>\n",
       "</div>"
      ],
      "text/plain": [
       "       cat_0  cat_1  cat_2  cat_3  cat_4  cat_5  cat_6  cat_7  cat_8  cat_9  \\\n",
       "0          0      0      0      1      0      0      0      0      0      0   \n",
       "1          0      0      0      1      0      0      0      0      0      0   \n",
       "2          0      0      0      0      0      0      0      0      0      0   \n",
       "3          0      0      0      0      0      0      0      0      0      0   \n",
       "4          0      0      0      0      0      0      1      0      0      0   \n",
       "...      ...    ...    ...    ...    ...    ...    ...    ...    ...    ...   \n",
       "87248      0      0      0      0      0      0      0      0      0      1   \n",
       "87249      0      0      0      0      0      0      0      0      0      1   \n",
       "87250      0      0      0      0      0      0      0      0      0      1   \n",
       "87251      0      0      0      0      0      0      0      0      0      1   \n",
       "87252      0      0      0      0      0      0      0      0      0      1   \n",
       "\n",
       "       cat_10  cat_11  cat_12  cat_13  \n",
       "0           0       0       0       0  \n",
       "1           0       0       0       0  \n",
       "2           0       1       0       0  \n",
       "3           0       1       0       0  \n",
       "4           0       0       0       0  \n",
       "...       ...     ...     ...     ...  \n",
       "87248       0       0       0       0  \n",
       "87249       0       0       0       0  \n",
       "87250       0       0       0       0  \n",
       "87251       0       0       0       0  \n",
       "87252       0       0       0       0  \n",
       "\n",
       "[87253 rows x 14 columns]"
      ]
     },
     "execution_count": 14,
     "metadata": {},
     "output_type": "execute_result"
    }
   ],
   "source": [
    "column_list = range(14)\n",
    "\n",
    "pre_res = [\"cat_\" + str(sub) for sub in column_list]\n",
    "\n",
    "\n",
    "res = pd.DataFrame (label_vs,columns=pre_res)\n",
    "res"
   ]
  },
  {
   "cell_type": "code",
   "execution_count": 15,
   "metadata": {},
   "outputs": [],
   "source": [
    "from sklearn.model_selection import train_test_split\n",
    "# train, test = train_test_split(data_model, test_size=0.3, random_state=86)"
   ]
  },
  {
   "cell_type": "code",
   "execution_count": 16,
   "metadata": {},
   "outputs": [],
   "source": [
    "train_label = res"
   ]
  },
  {
   "cell_type": "code",
   "execution_count": 17,
   "metadata": {},
   "outputs": [],
   "source": [
    "X_train,X_test,Y_train,Y_test = train_test_split(data_model,train_label, test_size=0.2, random_state=86, shuffle=True)"
   ]
  },
  {
   "cell_type": "code",
   "execution_count": 18,
   "metadata": {},
   "outputs": [
    {
     "data": {
      "text/plain": [
       "(69802, 2)"
      ]
     },
     "execution_count": 18,
     "metadata": {},
     "output_type": "execute_result"
    }
   ],
   "source": [
    "X_train.shape"
   ]
  },
  {
   "cell_type": "code",
   "execution_count": 19,
   "metadata": {},
   "outputs": [
    {
     "data": {
      "text/plain": [
       "(17451, 2)"
      ]
     },
     "execution_count": 19,
     "metadata": {},
     "output_type": "execute_result"
    }
   ],
   "source": [
    "X_test.shape"
   ]
  },
  {
   "cell_type": "code",
   "execution_count": null,
   "metadata": {},
   "outputs": [],
   "source": []
  },
  {
   "cell_type": "code",
   "execution_count": null,
   "metadata": {},
   "outputs": [],
   "source": []
  },
  {
   "cell_type": "code",
   "execution_count": 42,
   "metadata": {},
   "outputs": [],
   "source": [
    "stop_path = './jieba/stop_words2.txt'"
   ]
  },
  {
   "cell_type": "code",
   "execution_count": 43,
   "metadata": {},
   "outputs": [],
   "source": [
    "def preprocess_sentences(data, colname):\n",
    "    sentences = []\n",
    "    data0 = data[colname].tolist()\n",
    "    stop_words = open(stop_path).read().splitlines()\n",
    "    for i, text in enumerate(data0):\n",
    "        line = []\n",
    "        text = str(text)\n",
    "        for w in jieba.cut(text, cut_all=False):\n",
    "\n",
    "            # remove stopwords and digits\n",
    "            # can define your own rules\n",
    "            if w not in stop_words and not bool(re.match('[0-9\\n●「」\\r\\n -/`【】]+', w)):\n",
    "                line.append(w)\n",
    "\n",
    "        sentences.append(line)\n",
    "\n",
    "        if i%10000==0:\n",
    "            print(i, '/', len(data))\n",
    "    return sentences"
   ]
  },
  {
   "cell_type": "code",
   "execution_count": 44,
   "metadata": {},
   "outputs": [
    {
     "name": "stderr",
     "output_type": "stream",
     "text": [
      "Building prefix dict from the default dictionary ...\n",
      "2020-08-28 21:17:31,923: DEBUG: Building prefix dict from the default dictionary ...\n",
      "Dumping model to file cache /tmp/jieba.cache\n",
      "2020-08-28 21:17:32,920: DEBUG: Dumping model to file cache /tmp/jieba.cache\n",
      "Loading model cost 1.098 seconds.\n",
      "2020-08-28 21:17:33,022: DEBUG: Loading model cost 1.098 seconds.\n",
      "Prefix dict has been built succesfully.\n",
      "2020-08-28 21:17:33,023: DEBUG: Prefix dict has been built succesfully.\n"
     ]
    },
    {
     "name": "stdout",
     "output_type": "stream",
     "text": [
      "0 / 69802\n",
      "10000 / 69802\n",
      "20000 / 69802\n",
      "30000 / 69802\n",
      "40000 / 69802\n",
      "50000 / 69802\n",
      "60000 / 69802\n"
     ]
    }
   ],
   "source": [
    "X_train_sen = preprocess_sentences(X_train, 'text')"
   ]
  },
  {
   "cell_type": "code",
   "execution_count": 45,
   "metadata": {},
   "outputs": [
    {
     "name": "stdout",
     "output_type": "stream",
     "text": [
      "0 / 17451\n",
      "10000 / 17451\n"
     ]
    }
   ],
   "source": [
    "X_test_sen = preprocess_sentences(X_test, 'text')"
   ]
  },
  {
   "cell_type": "code",
   "execution_count": null,
   "metadata": {},
   "outputs": [],
   "source": [
    "    "
   ]
  },
  {
   "cell_type": "code",
   "execution_count": 46,
   "metadata": {},
   "outputs": [],
   "source": [
    "# save data as pickle format\n",
    "with open(\"storeSpace/cupoy_cutted_X_train_multi\", \"wb\") as file:\n",
    "    pickle.dump(X_train_sen, file)"
   ]
  },
  {
   "cell_type": "code",
   "execution_count": 47,
   "metadata": {},
   "outputs": [],
   "source": [
    "# save data as pickle format\n",
    "with open(\"storeSpace/cupoy_cutted_X_test_multi\", \"wb\") as file:\n",
    "    pickle.dump(X_test_sen, file)"
   ]
  },
  {
   "cell_type": "code",
   "execution_count": null,
   "metadata": {},
   "outputs": [],
   "source": []
  },
  {
   "cell_type": "code",
   "execution_count": null,
   "metadata": {},
   "outputs": [],
   "source": [
    "#Word2Vec"
   ]
  },
  {
   "cell_type": "code",
   "execution_count": 48,
   "metadata": {},
   "outputs": [],
   "source": [
    "import pickle\n",
    "from gensim.models import word2vec\n",
    "import random\n",
    "import logging\n",
    "import os\n"
   ]
  },
  {
   "cell_type": "code",
   "execution_count": 49,
   "metadata": {},
   "outputs": [],
   "source": [
    "logging.basicConfig(format='%(asctime)s: %(levelname)s: %(message)s')\n",
    "logging.root.setLevel(level=logging.INFO)"
   ]
  },
  {
   "cell_type": "code",
   "execution_count": 50,
   "metadata": {},
   "outputs": [],
   "source": [
    "## load 'article_cutted'\n",
    "with open('storeSpace/cupoy_cutted_X_train_multi', 'rb') as file:\n",
    "    cupoy_cutted_X_train = pickle.load(file)"
   ]
  },
  {
   "cell_type": "code",
   "execution_count": 51,
   "metadata": {},
   "outputs": [],
   "source": [
    "## load 'article_cutted'\n",
    "with open('storeSpace/cupoy_cutted_X_test_multi', 'rb') as file:\n",
    "    cupoy_cutted_X_test = pickle.load(file)"
   ]
  },
  {
   "cell_type": "code",
   "execution_count": null,
   "metadata": {},
   "outputs": [],
   "source": []
  },
  {
   "cell_type": "code",
   "execution_count": null,
   "metadata": {},
   "outputs": [],
   "source": [
    "#Averaging Word Embedding for Each Doc"
   ]
  },
  {
   "cell_type": "code",
   "execution_count": 53,
   "metadata": {},
   "outputs": [],
   "source": [
    "import pickle\n",
    "from gensim.models import Doc2Vec, doc2vec\n",
    "from gensim.models import word2vec\n",
    "from gensim.models import KeyedVectors\n",
    "import gensim\n",
    "import random\n",
    "import numpy as np\n",
    "import logging\n",
    "import os"
   ]
  },
  {
   "cell_type": "code",
   "execution_count": 54,
   "metadata": {},
   "outputs": [],
   "source": [
    "logging.basicConfig(format='%(asctime)s: %(levelname)s: %(message)s')\n",
    "logging.root.setLevel(level=logging.INFO)"
   ]
  },
  {
   "cell_type": "code",
   "execution_count": 55,
   "metadata": {},
   "outputs": [],
   "source": [
    "# load 'article_cutted'\n",
    "with open('storeSpace/cupoy_cutted_X_train_multi', 'rb') as file:\n",
    "    cupoy_cutted_X_train = pickle.load(file)"
   ]
  },
  {
   "cell_type": "code",
   "execution_count": 56,
   "metadata": {},
   "outputs": [],
   "source": [
    "with open('storeSpace/cupoy_cutted_X_test_multi', 'rb') as file:\n",
    "    cupoy_cutted_X_test = pickle.load(file)"
   ]
  },
  {
   "cell_type": "code",
   "execution_count": 57,
   "metadata": {},
   "outputs": [
    {
     "name": "stderr",
     "output_type": "stream",
     "text": [
      "2020-08-28 21:33:32,895: INFO: loading projection weights from word2vec_model/zh_wiki_word2vec_300.txt\n",
      "2020-08-28 21:38:17,856: INFO: loaded (614083, 300) matrix from word2vec_model/zh_wiki_word2vec_300.txt\n"
     ]
    }
   ],
   "source": [
    "load_wiki = KeyedVectors.load_word2vec_format('word2vec_model/zh_wiki_word2vec_300.txt')"
   ]
  },
  {
   "cell_type": "code",
   "execution_count": 58,
   "metadata": {},
   "outputs": [
    {
     "name": "stderr",
     "output_type": "stream",
     "text": [
      "2020-08-28 21:38:18,082: INFO: precomputing L2-norms of word weight vectors\n"
     ]
    },
    {
     "data": {
      "text/plain": [
       "[('中文', 0.7536253929138184),\n",
       " ('法文', 0.6874601244926453),\n",
       " ('日文', 0.6220279932022095),\n",
       " ('西班牙文', 0.6084370613098145),\n",
       " ('韓文', 0.5994431972503662),\n",
       " ('德文', 0.5884890556335449),\n",
       " ('俄文', 0.5821559429168701),\n",
       " ('譯名', 0.5794787406921387),\n",
       " ('芬蘭文', 0.5641646981239319),\n",
       " ('英文名', 0.5599370002746582)]"
      ]
     },
     "execution_count": 58,
     "metadata": {},
     "output_type": "execute_result"
    }
   ],
   "source": [
    "load_wiki.most_similar(positive=['英文'])"
   ]
  },
  {
   "cell_type": "code",
   "execution_count": null,
   "metadata": {},
   "outputs": [],
   "source": [
    "# from wikipedia2vec import Wikipedia2Vec\n",
    "# wiki2vec = Wikipedia2Vec.load(MODEL_FILE)"
   ]
  },
  {
   "cell_type": "markdown",
   "metadata": {},
   "source": [
    "參考文獻：\n",
    "用維基語料訓練 Word2vec 和 FastText embedding\n",
    "https://medium.com/@black_swan/%E7%94%A8%E7%B6%AD%E5%9F%BA%E8%AA%9E%E6%96%99%E8%A8%93%E7%B7%B4-word2vec-%E5%92%8C-fasttext-embedding-25ede5b15994\n",
    "Gensim:\n",
    "https://radimrehurek.com/gensim/models/word2vec.html#gensim.models.word2vec.Word2Vec.load\n",
    "Pretrained Embeddings\n",
    "https://wikipedia2vec.github.io/wikipedia2vec/pretrained/\n",
    "\n"
   ]
  },
  {
   "cell_type": "code",
   "execution_count": null,
   "metadata": {},
   "outputs": [],
   "source": []
  },
  {
   "cell_type": "code",
   "execution_count": null,
   "metadata": {},
   "outputs": [],
   "source": []
  },
  {
   "cell_type": "code",
   "execution_count": null,
   "metadata": {},
   "outputs": [],
   "source": []
  },
  {
   "cell_type": "code",
   "execution_count": null,
   "metadata": {},
   "outputs": [],
   "source": []
  },
  {
   "cell_type": "code",
   "execution_count": null,
   "metadata": {},
   "outputs": [],
   "source": []
  },
  {
   "cell_type": "code",
   "execution_count": null,
   "metadata": {},
   "outputs": [],
   "source": []
  },
  {
   "cell_type": "code",
   "execution_count": null,
   "metadata": {},
   "outputs": [],
   "source": []
  },
  {
   "cell_type": "code",
   "execution_count": null,
   "metadata": {},
   "outputs": [],
   "source": []
  },
  {
   "cell_type": "code",
   "execution_count": null,
   "metadata": {},
   "outputs": [],
   "source": []
  },
  {
   "cell_type": "code",
   "execution_count": 59,
   "metadata": {},
   "outputs": [
    {
     "name": "stderr",
     "output_type": "stream",
     "text": [
      "/opt/conda/lib/python3.7/site-packages/ipykernel_launcher.py:2: DeprecationWarning: Call to deprecated `wv` (Attribute will be removed in 4.0.0, use self instead).\n",
      "  \n",
      "/opt/conda/lib/python3.7/site-packages/ipykernel_launcher.py:3: DeprecationWarning: Call to deprecated `wv` (Attribute will be removed in 4.0.0, use self instead).\n",
      "  This is separate from the ipykernel package so we can avoid doing imports until\n"
     ]
    }
   ],
   "source": [
    "# filter words that not in word2vec's vocab\n",
    "train_data_filtered = [[w for w in l if w in load_wiki.wv] for l in cupoy_cutted_X_train]\n",
    "test_data_filtered = [[w for w in l if w in load_wiki.wv] for l in cupoy_cutted_X_test]"
   ]
  },
  {
   "cell_type": "code",
   "execution_count": 60,
   "metadata": {},
   "outputs": [],
   "source": [
    "# compute average word vector\n",
    "def avg_vec(data_filtered,model):\n",
    "    avg_vector = []\n",
    "\n",
    "    for l in data_filtered:\n",
    "        if len(l)==0:\n",
    "            avg_vector.append(np.array([0]*300))\n",
    "        else:\n",
    "            avg_vector.append(np.mean([model.wv[w] for w in l], axis=0))\n",
    "    return avg_vector"
   ]
  },
  {
   "cell_type": "code",
   "execution_count": 61,
   "metadata": {},
   "outputs": [
    {
     "name": "stderr",
     "output_type": "stream",
     "text": [
      "/opt/conda/lib/python3.7/site-packages/ipykernel_launcher.py:9: DeprecationWarning: Call to deprecated `wv` (Attribute will be removed in 4.0.0, use self instead).\n",
      "  if __name__ == '__main__':\n"
     ]
    }
   ],
   "source": [
    "train_avg_vec = avg_vec(train_data_filtered, load_wiki)"
   ]
  },
  {
   "cell_type": "code",
   "execution_count": 62,
   "metadata": {},
   "outputs": [
    {
     "name": "stderr",
     "output_type": "stream",
     "text": [
      "/opt/conda/lib/python3.7/site-packages/ipykernel_launcher.py:9: DeprecationWarning: Call to deprecated `wv` (Attribute will be removed in 4.0.0, use self instead).\n",
      "  if __name__ == '__main__':\n"
     ]
    }
   ],
   "source": [
    "test_avg_vec = avg_vec(test_data_filtered, load_wiki)"
   ]
  },
  {
   "cell_type": "code",
   "execution_count": 63,
   "metadata": {},
   "outputs": [],
   "source": [
    "# save result\n",
    "with open('storeSpace/train_avg_vec_byWiki_multi', 'wb') as file:\n",
    "    pickle.dump(train_avg_vec, file)"
   ]
  },
  {
   "cell_type": "code",
   "execution_count": 64,
   "metadata": {},
   "outputs": [],
   "source": [
    "# save result\n",
    "with open('storeSpace/test_avg_vec_byWiki_multi', 'wb') as file:\n",
    "    pickle.dump(test_avg_vec, file)"
   ]
  },
  {
   "cell_type": "code",
   "execution_count": null,
   "metadata": {},
   "outputs": [],
   "source": []
  },
  {
   "cell_type": "code",
   "execution_count": 65,
   "metadata": {},
   "outputs": [],
   "source": [
    "train_avg_df = pd.DataFrame(train_avg_vec)"
   ]
  },
  {
   "cell_type": "code",
   "execution_count": 66,
   "metadata": {},
   "outputs": [],
   "source": [
    "test_avg_df = pd.DataFrame(test_avg_vec)"
   ]
  },
  {
   "cell_type": "code",
   "execution_count": 67,
   "metadata": {},
   "outputs": [],
   "source": [
    "column_list = range(300)\n",
    "col_name = [\"char_\" + str(sub) for sub in column_list]"
   ]
  },
  {
   "cell_type": "code",
   "execution_count": 68,
   "metadata": {},
   "outputs": [],
   "source": [
    "train_avg_df.columns = col_name\n",
    "test_avg_df.columns = col_name"
   ]
  },
  {
   "cell_type": "code",
   "execution_count": 69,
   "metadata": {},
   "outputs": [
    {
     "data": {
      "text/html": [
       "<div>\n",
       "<style scoped>\n",
       "    .dataframe tbody tr th:only-of-type {\n",
       "        vertical-align: middle;\n",
       "    }\n",
       "\n",
       "    .dataframe tbody tr th {\n",
       "        vertical-align: top;\n",
       "    }\n",
       "\n",
       "    .dataframe thead th {\n",
       "        text-align: right;\n",
       "    }\n",
       "</style>\n",
       "<table border=\"1\" class=\"dataframe\">\n",
       "  <thead>\n",
       "    <tr style=\"text-align: right;\">\n",
       "      <th></th>\n",
       "      <th>char_0</th>\n",
       "      <th>char_1</th>\n",
       "      <th>char_2</th>\n",
       "      <th>char_3</th>\n",
       "      <th>char_4</th>\n",
       "      <th>char_5</th>\n",
       "      <th>char_6</th>\n",
       "      <th>char_7</th>\n",
       "      <th>char_8</th>\n",
       "      <th>char_9</th>\n",
       "      <th>...</th>\n",
       "      <th>char_290</th>\n",
       "      <th>char_291</th>\n",
       "      <th>char_292</th>\n",
       "      <th>char_293</th>\n",
       "      <th>char_294</th>\n",
       "      <th>char_295</th>\n",
       "      <th>char_296</th>\n",
       "      <th>char_297</th>\n",
       "      <th>char_298</th>\n",
       "      <th>char_299</th>\n",
       "    </tr>\n",
       "  </thead>\n",
       "  <tbody>\n",
       "    <tr>\n",
       "      <th>0</th>\n",
       "      <td>-0.008425</td>\n",
       "      <td>0.129156</td>\n",
       "      <td>-0.093522</td>\n",
       "      <td>-0.048951</td>\n",
       "      <td>-0.058888</td>\n",
       "      <td>0.052714</td>\n",
       "      <td>-0.004987</td>\n",
       "      <td>0.028211</td>\n",
       "      <td>-0.019855</td>\n",
       "      <td>0.033170</td>\n",
       "      <td>...</td>\n",
       "      <td>0.023727</td>\n",
       "      <td>0.012374</td>\n",
       "      <td>0.029403</td>\n",
       "      <td>0.023513</td>\n",
       "      <td>0.012715</td>\n",
       "      <td>0.028415</td>\n",
       "      <td>-0.004311</td>\n",
       "      <td>-0.061172</td>\n",
       "      <td>0.015566</td>\n",
       "      <td>0.079598</td>\n",
       "    </tr>\n",
       "    <tr>\n",
       "      <th>1</th>\n",
       "      <td>-0.027754</td>\n",
       "      <td>0.273532</td>\n",
       "      <td>-0.131908</td>\n",
       "      <td>0.023451</td>\n",
       "      <td>-0.020649</td>\n",
       "      <td>0.009764</td>\n",
       "      <td>-0.139221</td>\n",
       "      <td>-0.008427</td>\n",
       "      <td>0.055484</td>\n",
       "      <td>0.105191</td>\n",
       "      <td>...</td>\n",
       "      <td>0.055717</td>\n",
       "      <td>-0.012941</td>\n",
       "      <td>0.148655</td>\n",
       "      <td>0.069807</td>\n",
       "      <td>0.046016</td>\n",
       "      <td>0.002905</td>\n",
       "      <td>0.155340</td>\n",
       "      <td>-0.010253</td>\n",
       "      <td>0.003935</td>\n",
       "      <td>0.037889</td>\n",
       "    </tr>\n",
       "    <tr>\n",
       "      <th>2</th>\n",
       "      <td>0.009052</td>\n",
       "      <td>0.222384</td>\n",
       "      <td>-0.146011</td>\n",
       "      <td>-0.035718</td>\n",
       "      <td>0.064570</td>\n",
       "      <td>0.002945</td>\n",
       "      <td>-0.066334</td>\n",
       "      <td>0.036905</td>\n",
       "      <td>0.049532</td>\n",
       "      <td>0.087042</td>\n",
       "      <td>...</td>\n",
       "      <td>-0.003045</td>\n",
       "      <td>0.096498</td>\n",
       "      <td>0.013862</td>\n",
       "      <td>0.100853</td>\n",
       "      <td>0.052456</td>\n",
       "      <td>0.074452</td>\n",
       "      <td>0.146352</td>\n",
       "      <td>-0.085539</td>\n",
       "      <td>0.143163</td>\n",
       "      <td>0.096568</td>\n",
       "    </tr>\n",
       "    <tr>\n",
       "      <th>3</th>\n",
       "      <td>-0.056414</td>\n",
       "      <td>0.155171</td>\n",
       "      <td>-0.084697</td>\n",
       "      <td>-0.039708</td>\n",
       "      <td>-0.035160</td>\n",
       "      <td>-0.021497</td>\n",
       "      <td>0.002137</td>\n",
       "      <td>-0.014812</td>\n",
       "      <td>0.008707</td>\n",
       "      <td>0.006339</td>\n",
       "      <td>...</td>\n",
       "      <td>-0.032587</td>\n",
       "      <td>-0.004272</td>\n",
       "      <td>0.115898</td>\n",
       "      <td>0.004656</td>\n",
       "      <td>0.020248</td>\n",
       "      <td>0.006217</td>\n",
       "      <td>0.046302</td>\n",
       "      <td>-0.115650</td>\n",
       "      <td>0.049049</td>\n",
       "      <td>0.076631</td>\n",
       "    </tr>\n",
       "    <tr>\n",
       "      <th>4</th>\n",
       "      <td>-0.073609</td>\n",
       "      <td>0.137007</td>\n",
       "      <td>0.041904</td>\n",
       "      <td>0.000874</td>\n",
       "      <td>-0.131686</td>\n",
       "      <td>-0.050684</td>\n",
       "      <td>-0.014359</td>\n",
       "      <td>-0.068699</td>\n",
       "      <td>0.041054</td>\n",
       "      <td>0.043168</td>\n",
       "      <td>...</td>\n",
       "      <td>-0.062633</td>\n",
       "      <td>-0.011070</td>\n",
       "      <td>0.027401</td>\n",
       "      <td>0.128638</td>\n",
       "      <td>0.015332</td>\n",
       "      <td>0.072530</td>\n",
       "      <td>0.057738</td>\n",
       "      <td>-0.086273</td>\n",
       "      <td>0.062275</td>\n",
       "      <td>0.111539</td>\n",
       "    </tr>\n",
       "    <tr>\n",
       "      <th>...</th>\n",
       "      <td>...</td>\n",
       "      <td>...</td>\n",
       "      <td>...</td>\n",
       "      <td>...</td>\n",
       "      <td>...</td>\n",
       "      <td>...</td>\n",
       "      <td>...</td>\n",
       "      <td>...</td>\n",
       "      <td>...</td>\n",
       "      <td>...</td>\n",
       "      <td>...</td>\n",
       "      <td>...</td>\n",
       "      <td>...</td>\n",
       "      <td>...</td>\n",
       "      <td>...</td>\n",
       "      <td>...</td>\n",
       "      <td>...</td>\n",
       "      <td>...</td>\n",
       "      <td>...</td>\n",
       "      <td>...</td>\n",
       "      <td>...</td>\n",
       "    </tr>\n",
       "    <tr>\n",
       "      <th>69797</th>\n",
       "      <td>-0.079424</td>\n",
       "      <td>0.215497</td>\n",
       "      <td>-0.268249</td>\n",
       "      <td>0.007372</td>\n",
       "      <td>0.059569</td>\n",
       "      <td>0.039220</td>\n",
       "      <td>-0.055396</td>\n",
       "      <td>0.099405</td>\n",
       "      <td>0.006263</td>\n",
       "      <td>0.067548</td>\n",
       "      <td>...</td>\n",
       "      <td>-0.011309</td>\n",
       "      <td>0.036183</td>\n",
       "      <td>0.143516</td>\n",
       "      <td>0.016231</td>\n",
       "      <td>-0.031993</td>\n",
       "      <td>-0.011667</td>\n",
       "      <td>0.057867</td>\n",
       "      <td>-0.086628</td>\n",
       "      <td>0.065365</td>\n",
       "      <td>0.092180</td>\n",
       "    </tr>\n",
       "    <tr>\n",
       "      <th>69798</th>\n",
       "      <td>-0.075651</td>\n",
       "      <td>0.094129</td>\n",
       "      <td>-0.067812</td>\n",
       "      <td>-0.061015</td>\n",
       "      <td>-0.051484</td>\n",
       "      <td>0.038884</td>\n",
       "      <td>0.038729</td>\n",
       "      <td>-0.040693</td>\n",
       "      <td>0.043736</td>\n",
       "      <td>0.019412</td>\n",
       "      <td>...</td>\n",
       "      <td>-0.055765</td>\n",
       "      <td>-0.039198</td>\n",
       "      <td>0.042518</td>\n",
       "      <td>0.049137</td>\n",
       "      <td>0.018347</td>\n",
       "      <td>0.013304</td>\n",
       "      <td>0.020468</td>\n",
       "      <td>-0.041109</td>\n",
       "      <td>0.058176</td>\n",
       "      <td>0.134234</td>\n",
       "    </tr>\n",
       "    <tr>\n",
       "      <th>69799</th>\n",
       "      <td>-0.115798</td>\n",
       "      <td>0.189084</td>\n",
       "      <td>-0.097975</td>\n",
       "      <td>-0.023056</td>\n",
       "      <td>-0.004818</td>\n",
       "      <td>-0.039933</td>\n",
       "      <td>-0.005087</td>\n",
       "      <td>-0.018984</td>\n",
       "      <td>-0.052573</td>\n",
       "      <td>0.002800</td>\n",
       "      <td>...</td>\n",
       "      <td>-0.044733</td>\n",
       "      <td>0.026812</td>\n",
       "      <td>0.094157</td>\n",
       "      <td>0.063642</td>\n",
       "      <td>0.052534</td>\n",
       "      <td>0.020422</td>\n",
       "      <td>-0.018134</td>\n",
       "      <td>-0.117402</td>\n",
       "      <td>0.031489</td>\n",
       "      <td>0.115265</td>\n",
       "    </tr>\n",
       "    <tr>\n",
       "      <th>69800</th>\n",
       "      <td>-0.037045</td>\n",
       "      <td>0.230320</td>\n",
       "      <td>-0.045102</td>\n",
       "      <td>-0.027418</td>\n",
       "      <td>0.013853</td>\n",
       "      <td>-0.027821</td>\n",
       "      <td>-0.153875</td>\n",
       "      <td>-0.069017</td>\n",
       "      <td>0.078570</td>\n",
       "      <td>0.086857</td>\n",
       "      <td>...</td>\n",
       "      <td>0.027517</td>\n",
       "      <td>0.048143</td>\n",
       "      <td>0.138425</td>\n",
       "      <td>0.145676</td>\n",
       "      <td>0.096463</td>\n",
       "      <td>0.115789</td>\n",
       "      <td>0.064161</td>\n",
       "      <td>-0.120399</td>\n",
       "      <td>0.123255</td>\n",
       "      <td>0.023947</td>\n",
       "    </tr>\n",
       "    <tr>\n",
       "      <th>69801</th>\n",
       "      <td>-0.100379</td>\n",
       "      <td>0.110622</td>\n",
       "      <td>-0.108324</td>\n",
       "      <td>0.003426</td>\n",
       "      <td>-0.036137</td>\n",
       "      <td>0.046592</td>\n",
       "      <td>-0.006581</td>\n",
       "      <td>-0.060055</td>\n",
       "      <td>-0.004041</td>\n",
       "      <td>0.028188</td>\n",
       "      <td>...</td>\n",
       "      <td>-0.018663</td>\n",
       "      <td>0.090855</td>\n",
       "      <td>0.119429</td>\n",
       "      <td>0.088331</td>\n",
       "      <td>0.060923</td>\n",
       "      <td>0.045457</td>\n",
       "      <td>0.046984</td>\n",
       "      <td>-0.028200</td>\n",
       "      <td>0.016378</td>\n",
       "      <td>0.053119</td>\n",
       "    </tr>\n",
       "  </tbody>\n",
       "</table>\n",
       "<p>69802 rows × 300 columns</p>\n",
       "</div>"
      ],
      "text/plain": [
       "         char_0    char_1    char_2    char_3    char_4    char_5    char_6  \\\n",
       "0     -0.008425  0.129156 -0.093522 -0.048951 -0.058888  0.052714 -0.004987   \n",
       "1     -0.027754  0.273532 -0.131908  0.023451 -0.020649  0.009764 -0.139221   \n",
       "2      0.009052  0.222384 -0.146011 -0.035718  0.064570  0.002945 -0.066334   \n",
       "3     -0.056414  0.155171 -0.084697 -0.039708 -0.035160 -0.021497  0.002137   \n",
       "4     -0.073609  0.137007  0.041904  0.000874 -0.131686 -0.050684 -0.014359   \n",
       "...         ...       ...       ...       ...       ...       ...       ...   \n",
       "69797 -0.079424  0.215497 -0.268249  0.007372  0.059569  0.039220 -0.055396   \n",
       "69798 -0.075651  0.094129 -0.067812 -0.061015 -0.051484  0.038884  0.038729   \n",
       "69799 -0.115798  0.189084 -0.097975 -0.023056 -0.004818 -0.039933 -0.005087   \n",
       "69800 -0.037045  0.230320 -0.045102 -0.027418  0.013853 -0.027821 -0.153875   \n",
       "69801 -0.100379  0.110622 -0.108324  0.003426 -0.036137  0.046592 -0.006581   \n",
       "\n",
       "         char_7    char_8    char_9  ...  char_290  char_291  char_292  \\\n",
       "0      0.028211 -0.019855  0.033170  ...  0.023727  0.012374  0.029403   \n",
       "1     -0.008427  0.055484  0.105191  ...  0.055717 -0.012941  0.148655   \n",
       "2      0.036905  0.049532  0.087042  ... -0.003045  0.096498  0.013862   \n",
       "3     -0.014812  0.008707  0.006339  ... -0.032587 -0.004272  0.115898   \n",
       "4     -0.068699  0.041054  0.043168  ... -0.062633 -0.011070  0.027401   \n",
       "...         ...       ...       ...  ...       ...       ...       ...   \n",
       "69797  0.099405  0.006263  0.067548  ... -0.011309  0.036183  0.143516   \n",
       "69798 -0.040693  0.043736  0.019412  ... -0.055765 -0.039198  0.042518   \n",
       "69799 -0.018984 -0.052573  0.002800  ... -0.044733  0.026812  0.094157   \n",
       "69800 -0.069017  0.078570  0.086857  ...  0.027517  0.048143  0.138425   \n",
       "69801 -0.060055 -0.004041  0.028188  ... -0.018663  0.090855  0.119429   \n",
       "\n",
       "       char_293  char_294  char_295  char_296  char_297  char_298  char_299  \n",
       "0      0.023513  0.012715  0.028415 -0.004311 -0.061172  0.015566  0.079598  \n",
       "1      0.069807  0.046016  0.002905  0.155340 -0.010253  0.003935  0.037889  \n",
       "2      0.100853  0.052456  0.074452  0.146352 -0.085539  0.143163  0.096568  \n",
       "3      0.004656  0.020248  0.006217  0.046302 -0.115650  0.049049  0.076631  \n",
       "4      0.128638  0.015332  0.072530  0.057738 -0.086273  0.062275  0.111539  \n",
       "...         ...       ...       ...       ...       ...       ...       ...  \n",
       "69797  0.016231 -0.031993 -0.011667  0.057867 -0.086628  0.065365  0.092180  \n",
       "69798  0.049137  0.018347  0.013304  0.020468 -0.041109  0.058176  0.134234  \n",
       "69799  0.063642  0.052534  0.020422 -0.018134 -0.117402  0.031489  0.115265  \n",
       "69800  0.145676  0.096463  0.115789  0.064161 -0.120399  0.123255  0.023947  \n",
       "69801  0.088331  0.060923  0.045457  0.046984 -0.028200  0.016378  0.053119  \n",
       "\n",
       "[69802 rows x 300 columns]"
      ]
     },
     "execution_count": 69,
     "metadata": {},
     "output_type": "execute_result"
    }
   ],
   "source": [
    "train_avg_df"
   ]
  },
  {
   "cell_type": "code",
   "execution_count": null,
   "metadata": {},
   "outputs": [],
   "source": []
  },
  {
   "cell_type": "code",
   "execution_count": null,
   "metadata": {},
   "outputs": [],
   "source": [
    "#訓練模型前記得切資料"
   ]
  },
  {
   "cell_type": "code",
   "execution_count": 38,
   "metadata": {},
   "outputs": [
    {
     "data": {
      "text/plain": [
       "(69802, 2)"
      ]
     },
     "execution_count": 38,
     "metadata": {},
     "output_type": "execute_result"
    }
   ],
   "source": [
    "X_train.shape"
   ]
  },
  {
   "cell_type": "code",
   "execution_count": 40,
   "metadata": {},
   "outputs": [
    {
     "data": {
      "text/plain": [
       "(17451, 2)"
      ]
     },
     "execution_count": 40,
     "metadata": {},
     "output_type": "execute_result"
    }
   ],
   "source": [
    "X_test.shape"
   ]
  },
  {
   "cell_type": "code",
   "execution_count": null,
   "metadata": {},
   "outputs": [],
   "source": []
  },
  {
   "cell_type": "code",
   "execution_count": null,
   "metadata": {},
   "outputs": [],
   "source": [
    "#模型訓練"
   ]
  },
  {
   "cell_type": "code",
   "execution_count": 70,
   "metadata": {},
   "outputs": [],
   "source": [
    "from sklearn.multiclass import OneVsRestClassifier\n",
    "from xgboost import XGBClassifier\n",
    "from sklearn.preprocessing import MultiLabelBinarizer"
   ]
  },
  {
   "cell_type": "code",
   "execution_count": 71,
   "metadata": {},
   "outputs": [
    {
     "data": {
      "text/plain": [
       "(69802, 14)"
      ]
     },
     "execution_count": 71,
     "metadata": {},
     "output_type": "execute_result"
    }
   ],
   "source": [
    "Y_train.shape"
   ]
  },
  {
   "cell_type": "code",
   "execution_count": 72,
   "metadata": {},
   "outputs": [
    {
     "data": {
      "text/plain": [
       "array([[0, 0, 0, ..., 1, 0, 0],\n",
       "       [0, 0, 0, ..., 0, 0, 0],\n",
       "       [0, 0, 0, ..., 0, 0, 0],\n",
       "       ...,\n",
       "       [0, 0, 0, ..., 1, 0, 0],\n",
       "       [0, 0, 0, ..., 1, 0, 0],\n",
       "       [1, 0, 0, ..., 0, 0, 0]])"
      ]
     },
     "execution_count": 72,
     "metadata": {},
     "output_type": "execute_result"
    }
   ],
   "source": [
    "Y_trainarray = Y_train.to_numpy()\n",
    "Y_trainarray"
   ]
  },
  {
   "cell_type": "code",
   "execution_count": 73,
   "metadata": {},
   "outputs": [
    {
     "data": {
      "text/plain": [
       "OneVsRestClassifier(estimator=XGBClassifier(base_score=0.5, booster='gbtree',\n",
       "                                            colsample_bylevel=1,\n",
       "                                            colsample_bynode=1,\n",
       "                                            colsample_bytree=1, gamma=0,\n",
       "                                            learning_rate=0.2, max_delta_step=0,\n",
       "                                            max_depth=6, min_child_weight=1,\n",
       "                                            missing=None, n_estimators=100,\n",
       "                                            n_jobs=-1, nthread=None,\n",
       "                                            objective='binary:logistic',\n",
       "                                            random_state=0, reg_alpha=0,\n",
       "                                            reg_lambda=1, scale_pos_weight=1,\n",
       "                                            seed=None, silent=None, subsample=1,\n",
       "                                            verbosity=1),\n",
       "                    n_jobs=None)"
      ]
     },
     "execution_count": 73,
     "metadata": {},
     "output_type": "execute_result"
    }
   ],
   "source": [
    "clf = OneVsRestClassifier(XGBClassifier(n_jobs=-1,learning_rate=0.2, max_depth=6))\n",
    "\n",
    "# You may need to use MultiLabelBinarizer to encode your variables from arrays [[x, y, z]] to a multilabel \n",
    "# format before training.\n",
    "# mlb = MultiLabelBinarizer()\n",
    "# Y_train = mlb.fit_transform(Y_train)\n",
    "\n",
    "clf.fit(train_avg_df, Y_trainarray)"
   ]
  },
  {
   "cell_type": "markdown",
   "metadata": {},
   "source": [
    "參考文獻：\n",
    "\n",
    "Multiclass & Multilabel Classification with XGBoost\n",
    "https://medium.com/@gabrielziegler3/multiclass-multilabel-classification-with-xgboost-66195e4d9f2d\n",
    "使用 scikit-learn 實現多類別及多標籤分類算法\n",
    "https://www.cnblogs.com/Allen-rg/p/9492303.html"
   ]
  },
  {
   "cell_type": "code",
   "execution_count": null,
   "metadata": {},
   "outputs": [],
   "source": []
  },
  {
   "cell_type": "code",
   "execution_count": 94,
   "metadata": {},
   "outputs": [
    {
     "data": {
      "text/plain": [
       "array([[8.6409721e-04, 2.7521725e-03, 1.9732982e-02, 1.3769448e-03,\n",
       "        1.5181741e-03, 1.4332428e-03, 1.3464069e-02, 5.4734158e-03,\n",
       "        3.7756745e-02, 3.7401470e-03, 3.0757235e-03, 9.5337552e-01,\n",
       "        1.0322124e-03, 4.1506585e-04],\n",
       "       [1.7942904e-02, 2.2108918e-02, 1.4849161e-03, 1.1774186e-03,\n",
       "        1.7511967e-03, 1.5411386e-03, 6.9226222e-03, 8.3686580e-04,\n",
       "        3.8794244e-03, 1.8702184e-03, 2.8696892e-01, 1.3300987e-01,\n",
       "        3.8875202e-03, 2.5876777e-03],\n",
       "       [1.0394804e-03, 3.1379338e-03, 9.6143466e-01, 8.0926931e-03,\n",
       "        9.8598620e-04, 3.7296964e-03, 4.1663293e-03, 1.2421773e-02,\n",
       "        2.2071624e-02, 1.1783838e-02, 4.4088561e-02, 5.8406912e-02,\n",
       "        1.5685010e-03, 2.9990929e-03],\n",
       "       [8.5303354e-01, 2.5054991e-02, 3.1581109e-03, 1.3712287e-03,\n",
       "        5.8490094e-03, 4.3566176e-03, 7.4560352e-02, 2.2988229e-03,\n",
       "        1.4281617e-01, 1.3980184e-03, 1.7577032e-02, 1.2019140e-02,\n",
       "        8.0806558e-04, 2.3207511e-03],\n",
       "       [2.1070715e-03, 8.1404632e-01, 5.8719344e-03, 9.9374512e-03,\n",
       "        2.8194874e-03, 8.8152830e-03, 7.1822354e-03, 2.5200967e-03,\n",
       "        3.8339205e-03, 1.7648919e-02, 1.7873498e-02, 2.2605943e-02,\n",
       "        8.1702814e-02, 3.9362595e-03]], dtype=float32)"
      ]
     },
     "execution_count": 94,
     "metadata": {},
     "output_type": "execute_result"
    }
   ],
   "source": [
    "y_pred = clf.predict_proba(test_avg_df)\n",
    "y_pred[:5]"
   ]
  },
  {
   "cell_type": "code",
   "execution_count": 74,
   "metadata": {},
   "outputs": [
    {
     "data": {
      "text/plain": [
       "array([[0, 0, 0, 0, 0, 0, 0, 0, 1, 0, 0, 0, 0, 0],\n",
       "       [0, 0, 0, 0, 0, 0, 0, 0, 0, 0, 0, 0, 0, 0],\n",
       "       [0, 0, 0, 0, 0, 1, 0, 0, 0, 0, 0, 0, 0, 0],\n",
       "       [0, 0, 0, 0, 1, 0, 0, 0, 0, 0, 0, 0, 0, 0],\n",
       "       [0, 0, 0, 0, 0, 0, 0, 0, 0, 0, 1, 0, 0, 0]])"
      ]
     },
     "execution_count": 74,
     "metadata": {},
     "output_type": "execute_result"
    }
   ],
   "source": [
    "y_class = clf.predict(test_avg_df)\n",
    "y_class[:5]"
   ]
  },
  {
   "cell_type": "code",
   "execution_count": 75,
   "metadata": {},
   "outputs": [
    {
     "data": {
      "text/html": [
       "<div>\n",
       "<style scoped>\n",
       "    .dataframe tbody tr th:only-of-type {\n",
       "        vertical-align: middle;\n",
       "    }\n",
       "\n",
       "    .dataframe tbody tr th {\n",
       "        vertical-align: top;\n",
       "    }\n",
       "\n",
       "    .dataframe thead th {\n",
       "        text-align: right;\n",
       "    }\n",
       "</style>\n",
       "<table border=\"1\" class=\"dataframe\">\n",
       "  <thead>\n",
       "    <tr style=\"text-align: right;\">\n",
       "      <th></th>\n",
       "      <th>cat_0</th>\n",
       "      <th>cat_1</th>\n",
       "      <th>cat_2</th>\n",
       "      <th>cat_3</th>\n",
       "      <th>cat_4</th>\n",
       "      <th>cat_5</th>\n",
       "      <th>cat_6</th>\n",
       "      <th>cat_7</th>\n",
       "      <th>cat_8</th>\n",
       "      <th>cat_9</th>\n",
       "      <th>cat_10</th>\n",
       "      <th>cat_11</th>\n",
       "      <th>cat_12</th>\n",
       "      <th>cat_13</th>\n",
       "    </tr>\n",
       "  </thead>\n",
       "  <tbody>\n",
       "    <tr>\n",
       "      <th>81803</th>\n",
       "      <td>0</td>\n",
       "      <td>0</td>\n",
       "      <td>0</td>\n",
       "      <td>0</td>\n",
       "      <td>0</td>\n",
       "      <td>0</td>\n",
       "      <td>1</td>\n",
       "      <td>0</td>\n",
       "      <td>0</td>\n",
       "      <td>0</td>\n",
       "      <td>0</td>\n",
       "      <td>0</td>\n",
       "      <td>0</td>\n",
       "      <td>0</td>\n",
       "    </tr>\n",
       "    <tr>\n",
       "      <th>5028</th>\n",
       "      <td>0</td>\n",
       "      <td>0</td>\n",
       "      <td>0</td>\n",
       "      <td>0</td>\n",
       "      <td>1</td>\n",
       "      <td>0</td>\n",
       "      <td>0</td>\n",
       "      <td>0</td>\n",
       "      <td>0</td>\n",
       "      <td>0</td>\n",
       "      <td>0</td>\n",
       "      <td>0</td>\n",
       "      <td>0</td>\n",
       "      <td>0</td>\n",
       "    </tr>\n",
       "    <tr>\n",
       "      <th>19191</th>\n",
       "      <td>0</td>\n",
       "      <td>0</td>\n",
       "      <td>1</td>\n",
       "      <td>0</td>\n",
       "      <td>0</td>\n",
       "      <td>0</td>\n",
       "      <td>0</td>\n",
       "      <td>0</td>\n",
       "      <td>0</td>\n",
       "      <td>0</td>\n",
       "      <td>0</td>\n",
       "      <td>0</td>\n",
       "      <td>0</td>\n",
       "      <td>0</td>\n",
       "    </tr>\n",
       "    <tr>\n",
       "      <th>54152</th>\n",
       "      <td>0</td>\n",
       "      <td>0</td>\n",
       "      <td>0</td>\n",
       "      <td>0</td>\n",
       "      <td>1</td>\n",
       "      <td>0</td>\n",
       "      <td>0</td>\n",
       "      <td>0</td>\n",
       "      <td>0</td>\n",
       "      <td>0</td>\n",
       "      <td>0</td>\n",
       "      <td>0</td>\n",
       "      <td>0</td>\n",
       "      <td>0</td>\n",
       "    </tr>\n",
       "    <tr>\n",
       "      <th>8715</th>\n",
       "      <td>1</td>\n",
       "      <td>0</td>\n",
       "      <td>0</td>\n",
       "      <td>0</td>\n",
       "      <td>0</td>\n",
       "      <td>0</td>\n",
       "      <td>0</td>\n",
       "      <td>0</td>\n",
       "      <td>0</td>\n",
       "      <td>0</td>\n",
       "      <td>1</td>\n",
       "      <td>0</td>\n",
       "      <td>1</td>\n",
       "      <td>0</td>\n",
       "    </tr>\n",
       "  </tbody>\n",
       "</table>\n",
       "</div>"
      ],
      "text/plain": [
       "       cat_0  cat_1  cat_2  cat_3  cat_4  cat_5  cat_6  cat_7  cat_8  cat_9  \\\n",
       "81803      0      0      0      0      0      0      1      0      0      0   \n",
       "5028       0      0      0      0      1      0      0      0      0      0   \n",
       "19191      0      0      1      0      0      0      0      0      0      0   \n",
       "54152      0      0      0      0      1      0      0      0      0      0   \n",
       "8715       1      0      0      0      0      0      0      0      0      0   \n",
       "\n",
       "       cat_10  cat_11  cat_12  cat_13  \n",
       "81803       0       0       0       0  \n",
       "5028        0       0       0       0  \n",
       "19191       0       0       0       0  \n",
       "54152       0       0       0       0  \n",
       "8715        1       0       1       0  "
      ]
     },
     "execution_count": 75,
     "metadata": {},
     "output_type": "execute_result"
    }
   ],
   "source": [
    "Y_test[:5]"
   ]
  },
  {
   "cell_type": "code",
   "execution_count": null,
   "metadata": {},
   "outputs": [],
   "source": []
  },
  {
   "cell_type": "code",
   "execution_count": 77,
   "metadata": {},
   "outputs": [
    {
     "name": "stdout",
     "output_type": "stream",
     "text": [
      "Accuracy: 67.09%\n"
     ]
    },
    {
     "data": {
      "text/plain": [
       "([array([16687.,     0.,     0.,     0.,     0.,     0.,     0.,     0.,\n",
       "             0.,   764.]),\n",
       "  array([15557.,     0.,     0.,     0.,     0.,     0.,     0.,     0.,\n",
       "             0.,  1894.]),\n",
       "  array([15564.,     0.,     0.,     0.,     0.,     0.,     0.,     0.,\n",
       "             0.,  1887.]),\n",
       "  array([16529.,     0.,     0.,     0.,     0.,     0.,     0.,     0.,\n",
       "             0.,   922.]),\n",
       "  array([15529.,     0.,     0.,     0.,     0.,     0.,     0.,     0.,\n",
       "             0.,  1922.]),\n",
       "  array([15406.,     0.,     0.,     0.,     0.,     0.,     0.,     0.,\n",
       "             0.,  2045.]),\n",
       "  array([16370.,     0.,     0.,     0.,     0.,     0.,     0.,     0.,\n",
       "             0.,  1081.]),\n",
       "  array([16794.,     0.,     0.,     0.,     0.,     0.,     0.,     0.,\n",
       "             0.,   657.]),\n",
       "  array([16068.,     0.,     0.,     0.,     0.,     0.,     0.,     0.,\n",
       "             0.,  1383.]),\n",
       "  array([15422.,     0.,     0.,     0.,     0.,     0.,     0.,     0.,\n",
       "             0.,  2029.]),\n",
       "  array([16452.,     0.,     0.,     0.,     0.,     0.,     0.,     0.,\n",
       "             0.,   999.]),\n",
       "  array([15871.,     0.,     0.,     0.,     0.,     0.,     0.,     0.,\n",
       "             0.,  1580.]),\n",
       "  array([17259.,     0.,     0.,     0.,     0.,     0.,     0.,     0.,\n",
       "             0.,   192.]),\n",
       "  array([17189.,     0.,     0.,     0.,     0.,     0.,     0.,     0.,\n",
       "             0.,   262.])],\n",
       " array([0. , 0.1, 0.2, 0.3, 0.4, 0.5, 0.6, 0.7, 0.8, 0.9, 1. ]),\n",
       " <a list of 14 Lists of Patches objects>)"
      ]
     },
     "execution_count": 77,
     "metadata": {},
     "output_type": "execute_result"
    },
    {
     "data": {
      "image/png": "[encoded data removed]",
      "text/plain": [
       "<Figure size 432x288 with 1 Axes>"
      ]
     },
     "metadata": {
      "needs_background": "light"
     },
     "output_type": "display_data"
    }
   ],
   "source": [
    "from sklearn.metrics import accuracy_score\n",
    "import matplotlib.pyplot as plt\n",
    "from matplotlib.pylab import rcParams\n",
    "y_pred = clf.predict(test_avg_df)\n",
    "accuracy = accuracy_score(Y_test, y_pred)\n",
    "print(\"Accuracy: %.2f%%\" % (accuracy * 100.0))\n",
    "plt.hist(y_pred)"
   ]
  },
  {
   "cell_type": "code",
   "execution_count": 78,
   "metadata": {},
   "outputs": [
    {
     "data": {
      "text/plain": [
       "0.03091922689653479"
      ]
     },
     "execution_count": 78,
     "metadata": {},
     "output_type": "execute_result"
    }
   ],
   "source": [
    "from sklearn.metrics import hamming_loss\n",
    "hamming_loss(Y_test, y_pred)"
   ]
  },
  {
   "cell_type": "code",
   "execution_count": null,
   "metadata": {},
   "outputs": [],
   "source": []
  },
  {
   "cell_type": "code",
   "execution_count": null,
   "metadata": {},
   "outputs": [],
   "source": []
  },
  {
   "cell_type": "code",
   "execution_count": null,
   "metadata": {},
   "outputs": [],
   "source": []
  },
  {
   "cell_type": "code",
   "execution_count": null,
   "metadata": {},
   "outputs": [],
   "source": []
  },
  {
   "cell_type": "code",
   "execution_count": null,
   "metadata": {},
   "outputs": [],
   "source": []
  },
  {
   "cell_type": "code",
   "execution_count": null,
   "metadata": {},
   "outputs": [],
   "source": []
  },
  {
   "cell_type": "code",
   "execution_count": null,
   "metadata": {},
   "outputs": [],
   "source": []
  },
  {
   "cell_type": "code",
   "execution_count": null,
   "metadata": {},
   "outputs": [],
   "source": []
  },
  {
   "cell_type": "code",
   "execution_count": null,
   "metadata": {},
   "outputs": [],
   "source": []
  },
  {
   "cell_type": "code",
   "execution_count": null,
   "metadata": {},
   "outputs": [],
   "source": []
  },
  {
   "cell_type": "code",
   "execution_count": null,
   "metadata": {},
   "outputs": [],
   "source": []
  }
 ],
 "metadata": {
  "kernelspec": {
   "display_name": "Python 3",
   "language": "python",
   "name": "python3"
  },
  "language_info": {
   "codemirror_mode": {
    "name": "ipython",
    "version": 3
   },
   "file_extension": ".py",
   "mimetype": "text/x-python",
   "name": "python",
   "nbconvert_exporter": "python",
   "pygments_lexer": "ipython3",
   "version": "3.7.3"
  }
 },
 "nbformat": 4,
 "nbformat_minor": 4
}
